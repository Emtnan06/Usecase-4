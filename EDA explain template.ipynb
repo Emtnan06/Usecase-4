{
 "cells": [
  {
   "cell_type": "code",
   "execution_count": null,
   "id": "2e919ae7",
   "metadata": {},
   "outputs": [
    {
     "name": "stdout",
     "output_type": "stream",
     "text": [
      "Defaulting to user installation because normal site-packages is not writeable\n",
      "Collecting dtale\n",
      "  Downloading dtale-3.16.1-py2.py3-none-any.whl (14.7 MB)\n",
      "\u001b[K     |████████████████████████████████| 14.7 MB 1.7 MB/s eta 0:00:01\n",
      "\u001b[?25hRequirement already satisfied: cycler in /Users/emtnan/Library/Python/3.9/lib/python/site-packages (from dtale) (0.12.1)\n",
      "Collecting xarray\n",
      "  Downloading xarray-2024.7.0-py3-none-any.whl (1.2 MB)\n",
      "\u001b[K     |████████████████████████████████| 1.2 MB 1.5 MB/s eta 0:00:01\n",
      "\u001b[?25hRequirement already satisfied: six in /Applications/Xcode.app/Contents/Developer/Library/Frameworks/Python3.framework/Versions/3.9/lib/python3.9/site-packages (from dtale) (1.15.0)\n",
      "Collecting strsimpy\n",
      "  Downloading strsimpy-0.2.1-py3-none-any.whl (45 kB)\n",
      "\u001b[K     |████████████████████████████████| 45 kB 1.8 MB/s eta 0:00:01\n",
      "\u001b[?25hCollecting networkx<=3.2.1\n",
      "  Downloading networkx-3.2.1-py3-none-any.whl (1.6 MB)\n",
      "\u001b[K     |████████████████████████████████| 1.6 MB 1.3 MB/s eta 0:00:01\n",
      "\u001b[?25hCollecting lz4\n",
      "  Downloading lz4-4.4.3-cp39-cp39-macosx_10_9_x86_64.whl (220 kB)\n",
      "\u001b[K     |████████████████████████████████| 220 kB 1.3 MB/s eta 0:00:01\n",
      "\u001b[?25hCollecting xlrd\n",
      "  Downloading xlrd-2.0.1-py2.py3-none-any.whl (96 kB)\n",
      "\u001b[K     |████████████████████████████████| 96 kB 724 kB/s eta 0:00:01\n",
      "\u001b[?25hCollecting dash-bootstrap-components\n",
      "  Downloading dash_bootstrap_components-1.7.1-py3-none-any.whl (229 kB)\n",
      "\u001b[K     |████████████████████████████████| 229 kB 874 kB/s eta 0:00:01\n",
      "\u001b[?25hCollecting dash\n",
      "  Downloading dash-2.18.2-py3-none-any.whl (7.8 MB)\n",
      "\u001b[K     |████████████████████████████████| 7.8 MB 1.7 MB/s eta 0:00:01\n",
      "\u001b[?25hCollecting dash-daq\n",
      "  Downloading dash_daq-0.5.0.tar.gz (642 kB)\n",
      "\u001b[K     |████████████████████████████████| 642 kB 1.1 MB/s eta 0:00:01\n",
      "\u001b[?25hRequirement already satisfied: future>=0.14.0 in /Applications/Xcode.app/Contents/Developer/Library/Frameworks/Python3.framework/Versions/3.9/lib/python3.9/site-packages (from dtale) (0.18.2)\n",
      "Collecting kaleido\n",
      "  Downloading kaleido-0.2.1-py2.py3-none-macosx_10_11_x86_64.whl (85.2 MB)\n",
      "\u001b[K     |████████████████████████████████| 85.2 MB 1.1 MB/s eta 0:00:01\n",
      "\u001b[?25hRequirement already satisfied: matplotlib in /Users/emtnan/Library/Python/3.9/lib/python/site-packages (from dtale) (3.9.4)\n",
      "Collecting plotly\n",
      "  Downloading plotly-6.0.0-py3-none-any.whl (14.8 MB)\n",
      "\u001b[K     |████████████████████████████████| 14.8 MB 1.3 MB/s eta 0:00:01\n",
      "\u001b[?25hRequirement already satisfied: numpy in /Users/emtnan/Library/Python/3.9/lib/python/site-packages (from dtale) (2.0.2)\n",
      "Collecting requests\n",
      "  Downloading requests-2.32.3-py3-none-any.whl (64 kB)\n",
      "\u001b[K     |████████████████████████████████| 64 kB 1.4 MB/s eta 0:00:01\n",
      "\u001b[?25hRequirement already satisfied: scipy<=1.13.1 in /Users/emtnan/Library/Python/3.9/lib/python/site-packages (from dtale) (1.13.1)\n",
      "Requirement already satisfied: pandas in /Users/emtnan/Library/Python/3.9/lib/python/site-packages (from dtale) (2.2.3)\n",
      "Collecting scikit-learn\n",
      "  Downloading scikit_learn-1.6.1-cp39-cp39-macosx_10_9_x86_64.whl (12.1 MB)\n",
      "\u001b[K     |████████████████████████████████| 12.1 MB 1.2 MB/s eta 0:00:01\n",
      "\u001b[?25hCollecting beautifulsoup4!=4.13.0b2\n",
      "  Downloading beautifulsoup4-4.13.3-py3-none-any.whl (186 kB)\n",
      "\u001b[K     |████████████████████████████████| 186 kB 1.3 MB/s eta 0:00:01\n",
      "\u001b[?25hCollecting Flask-Compress\n",
      "  Downloading Flask_Compress-1.17-py3-none-any.whl (8.7 kB)\n",
      "Collecting squarify\n",
      "  Downloading squarify-0.4.4-py3-none-any.whl (4.1 kB)\n",
      "Collecting Flask\n",
      "  Downloading flask-3.1.0-py3-none-any.whl (102 kB)\n",
      "\u001b[K     |████████████████████████████████| 102 kB 1.4 MB/s eta 0:00:01\n",
      "\u001b[?25hRequirement already satisfied: et-xmlfile in /Users/emtnan/Library/Python/3.9/lib/python/site-packages (from dtale) (2.0.0)\n",
      "Collecting werkzeug\n",
      "  Downloading werkzeug-3.1.3-py3-none-any.whl (224 kB)\n",
      "\u001b[K     |████████████████████████████████| 224 kB 2.6 MB/s eta 0:00:01\n",
      "\u001b[?25hCollecting dash-colorscales\n",
      "  Downloading dash_colorscales-0.0.4.tar.gz (62 kB)\n",
      "\u001b[K     |████████████████████████████████| 62 kB 726 kB/s eta 0:00:01\n",
      "\u001b[?25hRequirement already satisfied: openpyxl!=3.2.0b1 in /Users/emtnan/Library/Python/3.9/lib/python/site-packages (from dtale) (3.1.5)\n",
      "Collecting missingno\n",
      "  Downloading missingno-0.5.2-py3-none-any.whl (8.7 kB)\n",
      "Requirement already satisfied: seaborn in /Users/emtnan/Library/Python/3.9/lib/python/site-packages (from dtale) (0.13.2)\n",
      "Collecting certifi\n",
      "  Downloading certifi-2025.1.31-py3-none-any.whl (166 kB)\n",
      "\u001b[K     |████████████████████████████████| 166 kB 1.6 MB/s eta 0:00:01\n",
      "\u001b[?25hCollecting statsmodels\n",
      "  Downloading statsmodels-0.14.4-cp39-cp39-macosx_10_9_x86_64.whl (10.2 MB)\n",
      "\u001b[K     |████████████████████████████████| 10.2 MB 804 kB/s eta 0:00:01\n",
      "\u001b[?25hCollecting itsdangerous\n",
      "  Downloading itsdangerous-2.2.0-py3-none-any.whl (16 kB)\n",
      "Collecting soupsieve>1.2\n",
      "  Downloading soupsieve-2.6-py3-none-any.whl (36 kB)\n",
      "Requirement already satisfied: typing-extensions>=4.0.0 in /Users/emtnan/Library/Python/3.9/lib/python/site-packages (from beautifulsoup4!=4.13.0b2->dtale) (4.12.2)\n",
      "Collecting dash-table==5.0.0\n",
      "  Downloading dash_table-5.0.0-py3-none-any.whl (3.9 kB)\n",
      "Collecting retrying\n",
      "  Downloading retrying-1.3.4-py3-none-any.whl (11 kB)\n",
      "Collecting dash-core-components==2.0.0\n",
      "  Downloading dash_core_components-2.0.0-py3-none-any.whl (3.8 kB)\n",
      "Collecting Flask\n",
      "  Downloading flask-3.0.3-py3-none-any.whl (101 kB)\n",
      "\u001b[K     |████████████████████████████████| 101 kB 1.9 MB/s ta 0:00:01\n",
      "\u001b[?25hCollecting werkzeug\n",
      "  Downloading werkzeug-3.0.6-py3-none-any.whl (227 kB)\n",
      "\u001b[K     |████████████████████████████████| 227 kB 665 kB/s eta 0:00:01\n",
      "\u001b[?25hCollecting dash-html-components==2.0.0\n",
      "  Downloading dash_html_components-2.0.0-py3-none-any.whl (4.1 kB)\n",
      "Requirement already satisfied: setuptools in /Applications/Xcode.app/Contents/Developer/Library/Frameworks/Python3.framework/Versions/3.9/lib/python3.9/site-packages (from dash->dtale) (58.0.4)\n",
      "Requirement already satisfied: nest-asyncio in /Users/emtnan/Library/Python/3.9/lib/python/site-packages (from dash->dtale) (1.6.0)\n",
      "Requirement already satisfied: importlib-metadata in /Users/emtnan/Library/Python/3.9/lib/python/site-packages (from dash->dtale) (8.6.1)\n",
      "Collecting blinker>=1.6.2\n",
      "  Downloading blinker-1.9.0-py3-none-any.whl (8.5 kB)\n",
      "Collecting click>=8.1.3\n",
      "  Downloading click-8.1.8-py3-none-any.whl (98 kB)\n",
      "\u001b[K     |████████████████████████████████| 98 kB 1.2 MB/s eta 0:00:01\n",
      "\u001b[?25hCollecting Jinja2>=3.1.2\n",
      "  Downloading jinja2-3.1.5-py3-none-any.whl (134 kB)\n",
      "\u001b[K     |████████████████████████████████| 134 kB 2.4 MB/s eta 0:00:01\n",
      "\u001b[?25hRequirement already satisfied: zipp>=3.20 in /Users/emtnan/Library/Python/3.9/lib/python/site-packages (from importlib-metadata->dash->dtale) (3.21.0)\n",
      "Collecting MarkupSafe>=2.0\n",
      "  Downloading MarkupSafe-3.0.2-cp39-cp39-macosx_10_9_universal2.whl (14 kB)\n",
      "Requirement already satisfied: packaging in /Users/emtnan/Library/Python/3.9/lib/python/site-packages (from plotly->dtale) (24.2)\n",
      "Collecting narwhals>=1.15.1\n",
      "  Downloading narwhals-1.26.0-py3-none-any.whl (306 kB)\n",
      "\u001b[K     |████████████████████████████████| 306 kB 1.5 MB/s eta 0:00:01\n",
      "\u001b[?25hCollecting zstandard\n",
      "  Downloading zstandard-0.23.0-cp39-cp39-macosx_10_9_x86_64.whl (788 kB)\n",
      "\u001b[K     |████████████████████████████████| 788 kB 1.4 MB/s eta 0:00:01\n",
      "\u001b[?25hCollecting brotli\n",
      "  Downloading Brotli-1.1.0-cp39-cp39-macosx_10_9_x86_64.whl (446 kB)\n",
      "\u001b[K     |████████████████████████████████| 446 kB 1.2 MB/s eta 0:00:01\n",
      "\u001b[?25hRequirement already satisfied: fonttools>=4.22.0 in /Users/emtnan/Library/Python/3.9/lib/python/site-packages (from matplotlib->dtale) (4.55.8)\n",
      "Requirement already satisfied: importlib-resources>=3.2.0 in /Users/emtnan/Library/Python/3.9/lib/python/site-packages (from matplotlib->dtale) (6.5.2)\n",
      "Requirement already satisfied: pillow>=8 in /Users/emtnan/Library/Python/3.9/lib/python/site-packages (from matplotlib->dtale) (11.1.0)\n",
      "Requirement already satisfied: python-dateutil>=2.7 in /Users/emtnan/Library/Python/3.9/lib/python/site-packages (from matplotlib->dtale) (2.9.0.post0)\n",
      "Requirement already satisfied: pyparsing>=2.3.1 in /Users/emtnan/Library/Python/3.9/lib/python/site-packages (from matplotlib->dtale) (3.2.1)\n",
      "Requirement already satisfied: contourpy>=1.0.1 in /Users/emtnan/Library/Python/3.9/lib/python/site-packages (from matplotlib->dtale) (1.3.0)\n",
      "Requirement already satisfied: kiwisolver>=1.3.1 in /Users/emtnan/Library/Python/3.9/lib/python/site-packages (from matplotlib->dtale) (1.4.7)\n",
      "Requirement already satisfied: pytz>=2020.1 in /Users/emtnan/Library/Python/3.9/lib/python/site-packages (from pandas->dtale) (2025.1)\n",
      "Requirement already satisfied: tzdata>=2022.7 in /Users/emtnan/Library/Python/3.9/lib/python/site-packages (from pandas->dtale) (2025.1)\n",
      "Collecting idna<4,>=2.5\n",
      "  Downloading idna-3.10-py3-none-any.whl (70 kB)\n",
      "\u001b[K     |████████████████████████████████| 70 kB 1.4 MB/s eta 0:00:01\n",
      "\u001b[?25hCollecting urllib3<3,>=1.21.1\n",
      "  Downloading urllib3-2.3.0-py3-none-any.whl (128 kB)\n",
      "\u001b[K     |████████████████████████████████| 128 kB 1.9 MB/s eta 0:00:01\n",
      "\u001b[?25hCollecting charset-normalizer<4,>=2\n",
      "  Downloading charset_normalizer-3.4.1-cp39-cp39-macosx_10_9_universal2.whl (197 kB)\n",
      "\u001b[K     |████████████████████████████████| 197 kB 2.2 MB/s eta 0:00:01\n",
      "\u001b[?25hCollecting joblib>=1.2.0\n",
      "  Downloading joblib-1.4.2-py3-none-any.whl (301 kB)\n",
      "\u001b[K     |████████████████████████████████| 301 kB 1.7 MB/s eta 0:00:01\n",
      "\u001b[?25hCollecting threadpoolctl>=3.1.0\n",
      "  Downloading threadpoolctl-3.5.0-py3-none-any.whl (18 kB)\n",
      "Collecting patsy>=0.5.6\n",
      "  Downloading patsy-1.0.1-py2.py3-none-any.whl (232 kB)\n",
      "\u001b[K     |████████████████████████████████| 232 kB 1.1 MB/s eta 0:00:01\n",
      "\u001b[?25hBuilding wheels for collected packages: dash-colorscales, dash-daq\n",
      "  Building wheel for dash-colorscales (setup.py) ... \u001b[?25ldone\n",
      "\u001b[?25h  Created wheel for dash-colorscales: filename=dash_colorscales-0.0.4-py3-none-any.whl size=62589 sha256=fc62c29f3e87072c6f836fa9043817170532d81252546b6776a99bd4e1062199\n",
      "  Stored in directory: /Users/emtnan/Library/Caches/pip/wheels/ec/32/ec/dc8a1aa820182edf280a5e26c76fc9493ae29e196735708de2\n",
      "  Building wheel for dash-daq (setup.py) ... \u001b[?25ldone\n",
      "\u001b[?25h  Created wheel for dash-daq: filename=dash_daq-0.5.0-py3-none-any.whl size=669716 sha256=a974a70a1c80073e0ba2ed907a2f41b3fb2283ebeebe014518f32cd0d8dfc715\n",
      "  Stored in directory: /Users/emtnan/Library/Caches/pip/wheels/53/73/ea/8a422aab5cab848d88653ed3087c1fa05553c3fbd67fb6ab75\n",
      "Successfully built dash-colorscales dash-daq\n",
      "Installing collected packages: MarkupSafe, werkzeug, urllib3, narwhals, Jinja2, itsdangerous, idna, click, charset-normalizer, certifi, blinker, retrying, requests, plotly, Flask, dash-table, dash-html-components, dash-core-components, zstandard, threadpoolctl, soupsieve, patsy, joblib, dash, brotli, xlrd, xarray, strsimpy, statsmodels, squarify, scikit-learn, networkx, missingno, lz4, kaleido, Flask-Compress, dash-daq, dash-colorscales, dash-bootstrap-components, beautifulsoup4, dtale\n",
      "Successfully installed Flask-3.0.3 Flask-Compress-1.17 Jinja2-3.1.5 MarkupSafe-3.0.2 beautifulsoup4-4.13.3 blinker-1.9.0 brotli-1.1.0 certifi-2025.1.31 charset-normalizer-3.4.1 click-8.1.8 dash-2.18.2 dash-bootstrap-components-1.7.1 dash-colorscales-0.0.4 dash-core-components-2.0.0 dash-daq-0.5.0 dash-html-components-2.0.0 dash-table-5.0.0 dtale-3.16.1 idna-3.10 itsdangerous-2.2.0 joblib-1.4.2 kaleido-0.2.1 lz4-4.4.3 missingno-0.5.2 narwhals-1.26.0 networkx-3.2.1 patsy-1.0.1 plotly-6.0.0 requests-2.32.3 retrying-1.3.4 scikit-learn-1.6.1 soupsieve-2.6 squarify-0.4.4 statsmodels-0.14.4 strsimpy-0.2.1 threadpoolctl-3.5.0 urllib3-2.3.0 werkzeug-3.0.6 xarray-2024.7.0 xlrd-2.0.1 zstandard-0.23.0\n",
      "\u001b[33mWARNING: You are using pip version 21.2.4; however, version 25.0.1 is available.\n",
      "You should consider upgrading via the '/Applications/Xcode.app/Contents/Developer/usr/bin/python3 -m pip install --upgrade pip' command.\u001b[0m\n",
      "zsh:1: command not found: pi3\n"
     ]
    }
   ],
   "source": [
    "!pip3 install dtale\n",
    "\n",
    "\n"
   ]
  },
  {
   "cell_type": "code",
   "execution_count": 44,
   "id": "d24eecc9",
   "metadata": {},
   "outputs": [
    {
     "name": "stdout",
     "output_type": "stream",
     "text": [
      "Defaulting to user installation because normal site-packages is not writeable\n",
      "Collecting sweetviz\n",
      "  Downloading sweetviz-2.3.1-py3-none-any.whl (15.1 MB)\n",
      "\u001b[K     |████████████████████████████████| 15.1 MB 1.2 MB/s eta 0:00:01\n",
      "\u001b[?25hRequirement already satisfied: jinja2>=2.11.1 in /Users/emtnan/Library/Python/3.9/lib/python/site-packages (from sweetviz) (3.1.5)\n",
      "Requirement already satisfied: scipy>=1.3.2 in /Users/emtnan/Library/Python/3.9/lib/python/site-packages (from sweetviz) (1.13.1)\n",
      "Requirement already satisfied: importlib-resources>=1.2.0 in /Users/emtnan/Library/Python/3.9/lib/python/site-packages (from sweetviz) (6.5.2)\n",
      "Collecting tqdm>=4.43.0\n",
      "  Downloading tqdm-4.67.1-py3-none-any.whl (78 kB)\n",
      "\u001b[K     |████████████████████████████████| 78 kB 1.6 MB/s eta 0:00:01\n",
      "\u001b[?25hRequirement already satisfied: matplotlib>=3.1.3 in /Users/emtnan/Library/Python/3.9/lib/python/site-packages (from sweetviz) (3.9.4)\n",
      "Requirement already satisfied: numpy>=1.16.0 in /Users/emtnan/Library/Python/3.9/lib/python/site-packages (from sweetviz) (2.0.2)\n",
      "Requirement already satisfied: pandas!=1.0.0,!=1.0.1,!=1.0.2,>=0.25.3 in /Users/emtnan/Library/Python/3.9/lib/python/site-packages (from sweetviz) (2.2.3)\n",
      "Requirement already satisfied: zipp>=3.1.0 in /Users/emtnan/Library/Python/3.9/lib/python/site-packages (from importlib-resources>=1.2.0->sweetviz) (3.21.0)\n",
      "Requirement already satisfied: MarkupSafe>=2.0 in /Users/emtnan/Library/Python/3.9/lib/python/site-packages (from jinja2>=2.11.1->sweetviz) (3.0.2)\n",
      "Requirement already satisfied: python-dateutil>=2.7 in /Users/emtnan/Library/Python/3.9/lib/python/site-packages (from matplotlib>=3.1.3->sweetviz) (2.9.0.post0)\n",
      "Requirement already satisfied: contourpy>=1.0.1 in /Users/emtnan/Library/Python/3.9/lib/python/site-packages (from matplotlib>=3.1.3->sweetviz) (1.3.0)\n",
      "Requirement already satisfied: kiwisolver>=1.3.1 in /Users/emtnan/Library/Python/3.9/lib/python/site-packages (from matplotlib>=3.1.3->sweetviz) (1.4.7)\n",
      "Requirement already satisfied: packaging>=20.0 in /Users/emtnan/Library/Python/3.9/lib/python/site-packages (from matplotlib>=3.1.3->sweetviz) (24.2)\n",
      "Requirement already satisfied: fonttools>=4.22.0 in /Users/emtnan/Library/Python/3.9/lib/python/site-packages (from matplotlib>=3.1.3->sweetviz) (4.55.8)\n",
      "Requirement already satisfied: cycler>=0.10 in /Users/emtnan/Library/Python/3.9/lib/python/site-packages (from matplotlib>=3.1.3->sweetviz) (0.12.1)\n",
      "Requirement already satisfied: pyparsing>=2.3.1 in /Users/emtnan/Library/Python/3.9/lib/python/site-packages (from matplotlib>=3.1.3->sweetviz) (3.2.1)\n",
      "Requirement already satisfied: pillow>=8 in /Users/emtnan/Library/Python/3.9/lib/python/site-packages (from matplotlib>=3.1.3->sweetviz) (11.1.0)\n",
      "Requirement already satisfied: pytz>=2020.1 in /Users/emtnan/Library/Python/3.9/lib/python/site-packages (from pandas!=1.0.0,!=1.0.1,!=1.0.2,>=0.25.3->sweetviz) (2025.1)\n",
      "Requirement already satisfied: tzdata>=2022.7 in /Users/emtnan/Library/Python/3.9/lib/python/site-packages (from pandas!=1.0.0,!=1.0.1,!=1.0.2,>=0.25.3->sweetviz) (2025.1)\n",
      "Requirement already satisfied: six>=1.5 in /Applications/Xcode.app/Contents/Developer/Library/Frameworks/Python3.framework/Versions/3.9/lib/python3.9/site-packages (from python-dateutil>=2.7->matplotlib>=3.1.3->sweetviz) (1.15.0)\n",
      "Installing collected packages: tqdm, sweetviz\n",
      "Successfully installed sweetviz-2.3.1 tqdm-4.67.1\n",
      "\u001b[33mWARNING: You are using pip version 21.2.4; however, version 25.0.1 is available.\n",
      "You should consider upgrading via the '/Applications/Xcode.app/Contents/Developer/usr/bin/python3 -m pip install --upgrade pip' command.\u001b[0m\n"
     ]
    }
   ],
   "source": [
    "!pip3 install sweetviz"
   ]
  },
  {
   "cell_type": "code",
   "execution_count": 505,
   "id": "f7d5689e",
   "metadata": {},
   "outputs": [
    {
     "name": "stdout",
     "output_type": "stream",
     "text": [
      "Defaulting to user installation because normal site-packages is not writeable\n",
      "Collecting ipyvizzu\n",
      "  Downloading ipyvizzu-0.17.0-py3-none-any.whl (40 kB)\n",
      "\u001b[K     |████████████████████████████████| 40 kB 542 kB/s eta 0:00:011\n",
      "\u001b[?25hRequirement already satisfied: IPython in /Users/emtnan/Library/Python/3.9/lib/python/site-packages (from ipyvizzu) (8.18.1)\n",
      "Collecting jsonschema\n",
      "  Downloading jsonschema-4.23.0-py3-none-any.whl (88 kB)\n",
      "\u001b[K     |████████████████████████████████| 88 kB 1.1 MB/s eta 0:00:01\n",
      "\u001b[?25hRequirement already satisfied: decorator in /Users/emtnan/Library/Python/3.9/lib/python/site-packages (from IPython->ipyvizzu) (5.1.1)\n",
      "Requirement already satisfied: exceptiongroup in /Users/emtnan/Library/Python/3.9/lib/python/site-packages (from IPython->ipyvizzu) (1.2.2)\n",
      "Requirement already satisfied: traitlets>=5 in /Users/emtnan/Library/Python/3.9/lib/python/site-packages (from IPython->ipyvizzu) (5.14.3)\n",
      "Requirement already satisfied: typing-extensions in /Users/emtnan/Library/Python/3.9/lib/python/site-packages (from IPython->ipyvizzu) (4.12.2)\n",
      "Requirement already satisfied: jedi>=0.16 in /Users/emtnan/Library/Python/3.9/lib/python/site-packages (from IPython->ipyvizzu) (0.19.2)\n",
      "Requirement already satisfied: matplotlib-inline in /Users/emtnan/Library/Python/3.9/lib/python/site-packages (from IPython->ipyvizzu) (0.1.7)\n",
      "Requirement already satisfied: stack-data in /Users/emtnan/Library/Python/3.9/lib/python/site-packages (from IPython->ipyvizzu) (0.6.3)\n",
      "Requirement already satisfied: prompt-toolkit<3.1.0,>=3.0.41 in /Users/emtnan/Library/Python/3.9/lib/python/site-packages (from IPython->ipyvizzu) (3.0.50)\n",
      "Requirement already satisfied: pygments>=2.4.0 in /Users/emtnan/Library/Python/3.9/lib/python/site-packages (from IPython->ipyvizzu) (2.19.1)\n",
      "Requirement already satisfied: pexpect>4.3 in /Users/emtnan/Library/Python/3.9/lib/python/site-packages (from IPython->ipyvizzu) (4.9.0)\n",
      "Requirement already satisfied: parso<0.9.0,>=0.8.4 in /Users/emtnan/Library/Python/3.9/lib/python/site-packages (from jedi>=0.16->IPython->ipyvizzu) (0.8.4)\n",
      "Requirement already satisfied: ptyprocess>=0.5 in /Users/emtnan/Library/Python/3.9/lib/python/site-packages (from pexpect>4.3->IPython->ipyvizzu) (0.7.0)\n",
      "Requirement already satisfied: wcwidth in /Users/emtnan/Library/Python/3.9/lib/python/site-packages (from prompt-toolkit<3.1.0,>=3.0.41->IPython->ipyvizzu) (0.2.13)\n",
      "Collecting rpds-py>=0.7.1\n",
      "  Downloading rpds_py-0.22.3-cp39-cp39-macosx_10_12_x86_64.whl (359 kB)\n",
      "\u001b[K     |████████████████████████████████| 359 kB 6.2 MB/s eta 0:00:01\n",
      "\u001b[?25hCollecting referencing>=0.28.4\n",
      "  Downloading referencing-0.36.2-py3-none-any.whl (26 kB)\n",
      "Collecting attrs>=22.2.0\n",
      "  Downloading attrs-25.1.0-py3-none-any.whl (63 kB)\n",
      "\u001b[K     |████████████████████████████████| 63 kB 4.3 MB/s  eta 0:00:01\n",
      "\u001b[?25hCollecting jsonschema-specifications>=2023.03.6\n",
      "  Downloading jsonschema_specifications-2024.10.1-py3-none-any.whl (18 kB)\n",
      "Requirement already satisfied: asttokens>=2.1.0 in /Users/emtnan/Library/Python/3.9/lib/python/site-packages (from stack-data->IPython->ipyvizzu) (3.0.0)\n",
      "Requirement already satisfied: executing>=1.2.0 in /Users/emtnan/Library/Python/3.9/lib/python/site-packages (from stack-data->IPython->ipyvizzu) (2.2.0)\n",
      "Requirement already satisfied: pure-eval in /Users/emtnan/Library/Python/3.9/lib/python/site-packages (from stack-data->IPython->ipyvizzu) (0.2.3)\n",
      "Installing collected packages: rpds-py, attrs, referencing, jsonschema-specifications, jsonschema, ipyvizzu\n",
      "Successfully installed attrs-25.1.0 ipyvizzu-0.17.0 jsonschema-4.23.0 jsonschema-specifications-2024.10.1 referencing-0.36.2 rpds-py-0.22.3\n",
      "\u001b[33mWARNING: You are using pip version 21.2.4; however, version 25.0.1 is available.\n",
      "You should consider upgrading via the '/Applications/Xcode.app/Contents/Developer/usr/bin/python3 -m pip install --upgrade pip' command.\u001b[0m\n"
     ]
    }
   ],
   "source": [
    "!pip3 install ipyvizzu"
   ]
  },
  {
   "cell_type": "code",
   "execution_count": 45,
   "id": "e69c4ba1-85f3-4a02-ae37-c64347a01803",
   "metadata": {},
   "outputs": [
    {
     "name": "stderr",
     "output_type": "stream",
     "text": [
      "/Users/emtnan/Library/Python/3.9/lib/python/site-packages/tqdm/auto.py:21: TqdmWarning:\n",
      "\n",
      "IProgress not found. Please update jupyter and ipywidgets. See https://ipywidgets.readthedocs.io/en/stable/user_install.html\n",
      "\n"
     ]
    }
   ],
   "source": [
    "#Import all relevant libraries\n",
    "import numpy as np\n",
    "import pandas as pd\n",
    "import matplotlib.pyplot as plt\n",
    "import seaborn as sns\n",
    "from scipy.stats import zscore\n",
    "import dtale \n",
    "import sweetviz as sv\n",
    "\n",
    " \n",
    "## This statement allows the visuals to render within your Jupyter Notebook.\n",
    "%matplotlib inline"
   ]
  },
  {
   "cell_type": "markdown",
   "id": "e395e8bf-b530-4720-8d0f-26811e927d6e",
   "metadata": {},
   "source": [
    "## Loading the data\n",
    "We can now load the dataset into pandas using the read_csv() function. This converts the CSV file into a Pandas dataframe."
   ]
  },
  {
   "cell_type": "code",
   "execution_count": 419,
   "id": "f83ef7ba",
   "metadata": {},
   "outputs": [],
   "source": [
    " #Read in the csv file and convert to a Pandas dataframe\n",
    "saudi_used_cars = pd.read_csv(\"Data/data_saudi_used_cars.csv\")"
   ]
  },
  {
   "cell_type": "code",
   "execution_count": 420,
   "id": "a7f6d766",
   "metadata": {},
   "outputs": [
    {
     "name": "stdout",
     "output_type": "stream",
     "text": [
      "Dtale is running. Open the following link to explore your dataset:\n"
     ]
    },
    {
     "data": {
      "text/html": [
       "\n",
       "        <iframe\n",
       "            width=\"100%\"\n",
       "            height=\"475\"\n",
       "            src=\"http://Emtnans-MacBook-Pro.local:40000/dtale/iframe/180\"\n",
       "            frameborder=\"0\"\n",
       "            allowfullscreen\n",
       "            \n",
       "        ></iframe>\n",
       "        "
      ],
      "text/plain": [
       "<IPython.lib.display.IFrame at 0x13bf71c10>"
      ]
     },
     "metadata": {},
     "output_type": "display_data"
    },
    {
     "name": "stdout",
     "output_type": "stream",
     "text": [
      "<bound method DtaleData.main_url of >\n"
     ]
    }
   ],
   "source": [
    "dtale_app = dtale.show(saudi_used_cars)\n",
    "print(\"Dtale is running. Open the following link to explore your dataset:\")\n",
    "print(dtale_app.main_url) \n"
   ]
  },
  {
   "cell_type": "code",
   "execution_count": 421,
   "id": "a354eb8f",
   "metadata": {},
   "outputs": [],
   "source": [
    "# # Generate an analysis report for the dataset\n",
    "# report = sv.analyze(saudi_used_cars)\n",
    "\n",
    "# # Show the report in a new tab or inline (if using Jupyter Notebook)\n",
    "# report.show_html('sweetviz_report.html')  # Opens in browser"
   ]
  },
  {
   "cell_type": "markdown",
   "id": "ca5ed983-0f72-43eb-8168-6fafd48c562e",
   "metadata": {},
   "source": [
    "### Viewing the dataframe\n",
    "We can get a quick sense of the size of our dataset by using the shape method. This returns a tuple with the number of rows and columns in the dataset."
   ]
  },
  {
   "cell_type": "code",
   "execution_count": 422,
   "id": "fa1db025",
   "metadata": {},
   "outputs": [],
   "source": [
    "# The \"Negotiable\" column indicates whether the price is negotiable.\n",
    "# If its value is True, the price is set to 0 since no fixed price has been determined yet."
   ]
  },
  {
   "cell_type": "code",
   "execution_count": 423,
   "id": "bfde0b69-613c-4dd1-8ebf-e4d2e570e653",
   "metadata": {},
   "outputs": [
    {
     "data": {
      "text/html": [
       "\n",
       "        <iframe\n",
       "            width=\"100%\"\n",
       "            height=\"475\"\n",
       "            src=\"http://Emtnans-MacBook-Pro.local:40000/dtale/iframe/181\"\n",
       "            frameborder=\"0\"\n",
       "            allowfullscreen\n",
       "            \n",
       "        ></iframe>\n",
       "        "
      ],
      "text/plain": [
       "<IPython.lib.display.IFrame at 0x13becff70>"
      ]
     },
     "metadata": {},
     "output_type": "display_data"
    },
    {
     "data": {
      "text/plain": []
     },
     "execution_count": 423,
     "metadata": {},
     "output_type": "execute_result"
    }
   ],
   "source": [
    "dtale.show(saudi_used_cars.head())"
   ]
  },
  {
   "cell_type": "code",
   "execution_count": 424,
   "id": "6ebc842c",
   "metadata": {},
   "outputs": [
    {
     "data": {
      "text/html": [
       "\n",
       "        <iframe\n",
       "            width=\"100%\"\n",
       "            height=\"475\"\n",
       "            src=\"http://Emtnans-MacBook-Pro.local:40000/dtale/iframe/182\"\n",
       "            frameborder=\"0\"\n",
       "            allowfullscreen\n",
       "            \n",
       "        ></iframe>\n",
       "        "
      ],
      "text/plain": [
       "<IPython.lib.display.IFrame at 0x13c165730>"
      ]
     },
     "metadata": {},
     "output_type": "display_data"
    },
    {
     "data": {
      "text/plain": []
     },
     "execution_count": 424,
     "metadata": {},
     "output_type": "execute_result"
    }
   ],
   "source": [
    "dtale.show(saudi_used_cars.tail())"
   ]
  },
  {
   "cell_type": "code",
   "execution_count": 425,
   "id": "fd2fb99b",
   "metadata": {},
   "outputs": [
    {
     "data": {
      "text/html": [
       "\n",
       "        <iframe\n",
       "            width=\"100%\"\n",
       "            height=\"475\"\n",
       "            src=\"http://Emtnans-MacBook-Pro.local:40000/dtale/iframe/183\"\n",
       "            frameborder=\"0\"\n",
       "            allowfullscreen\n",
       "            \n",
       "        ></iframe>\n",
       "        "
      ],
      "text/plain": [
       "<IPython.lib.display.IFrame at 0x13becf850>"
      ]
     },
     "metadata": {},
     "output_type": "display_data"
    },
    {
     "data": {
      "text/plain": []
     },
     "execution_count": 425,
     "metadata": {},
     "output_type": "execute_result"
    }
   ],
   "source": [
    "dtale.show(pd.DataFrame({\"Dataset Size\": [saudi_used_cars.shape]}))"
   ]
  },
  {
   "cell_type": "code",
   "execution_count": 426,
   "id": "1108772f",
   "metadata": {},
   "outputs": [],
   "source": [
    "#info"
   ]
  },
  {
   "cell_type": "code",
   "execution_count": 427,
   "id": "c44bfa93",
   "metadata": {},
   "outputs": [
    {
     "data": {
      "text/html": [
       "\n",
       "        <iframe\n",
       "            width=\"100%\"\n",
       "            height=\"475\"\n",
       "            src=\"http://Emtnans-MacBook-Pro.local:40000/dtale/iframe/184\"\n",
       "            frameborder=\"0\"\n",
       "            allowfullscreen\n",
       "            \n",
       "        ></iframe>\n",
       "        "
      ],
      "text/plain": [
       "<IPython.lib.display.IFrame at 0x13c165ee0>"
      ]
     },
     "metadata": {},
     "output_type": "display_data"
    },
    {
     "data": {
      "text/plain": []
     },
     "execution_count": 427,
     "metadata": {},
     "output_type": "execute_result"
    }
   ],
   "source": [
    "dtale.show(saudi_used_cars.dtypes.to_frame(name=\"Dtype\").join(saudi_used_cars.notna().sum().to_frame(name=\"Non-Null Count\")))\n"
   ]
  },
  {
   "cell_type": "code",
   "execution_count": 428,
   "id": "3bbf4354",
   "metadata": {},
   "outputs": [
    {
     "data": {
      "text/html": [
       "\n",
       "        <iframe\n",
       "            width=\"100%\"\n",
       "            height=\"475\"\n",
       "            src=\"http://Emtnans-MacBook-Pro.local:40000/dtale/iframe/185\"\n",
       "            frameborder=\"0\"\n",
       "            allowfullscreen\n",
       "            \n",
       "        ></iframe>\n",
       "        "
      ],
      "text/plain": [
       "<IPython.lib.display.IFrame at 0x13c15fa90>"
      ]
     },
     "metadata": {},
     "output_type": "display_data"
    },
    {
     "data": {
      "text/plain": []
     },
     "execution_count": 428,
     "metadata": {},
     "output_type": "execute_result"
    }
   ],
   "source": [
    "dtale.show(saudi_used_cars.describe(include='object'))"
   ]
  },
  {
   "cell_type": "code",
   "execution_count": 429,
   "id": "85449775",
   "metadata": {},
   "outputs": [
    {
     "data": {
      "text/html": [
       "\n",
       "        <iframe\n",
       "            width=\"100%\"\n",
       "            height=\"475\"\n",
       "            src=\"http://Emtnans-MacBook-Pro.local:40000/dtale/iframe/186\"\n",
       "            frameborder=\"0\"\n",
       "            allowfullscreen\n",
       "            \n",
       "        ></iframe>\n",
       "        "
      ],
      "text/plain": [
       "<IPython.lib.display.IFrame at 0x13c221640>"
      ]
     },
     "metadata": {},
     "output_type": "display_data"
    },
    {
     "data": {
      "text/plain": []
     },
     "execution_count": 429,
     "metadata": {},
     "output_type": "execute_result"
    }
   ],
   "source": [
    "dtale.show(saudi_used_cars.describe(include='integer'))\n"
   ]
  },
  {
   "cell_type": "code",
   "execution_count": 430,
   "id": "f1ab632a",
   "metadata": {},
   "outputs": [
    {
     "data": {
      "text/html": [
       "\n",
       "        <iframe\n",
       "            width=\"100%\"\n",
       "            height=\"475\"\n",
       "            src=\"http://Emtnans-MacBook-Pro.local:40000/dtale/iframe/187\"\n",
       "            frameborder=\"0\"\n",
       "            allowfullscreen\n",
       "            \n",
       "        ></iframe>\n",
       "        "
      ],
      "text/plain": [
       "<IPython.lib.display.IFrame at 0x13c20e340>"
      ]
     },
     "metadata": {},
     "output_type": "display_data"
    },
    {
     "data": {
      "text/plain": []
     },
     "execution_count": 430,
     "metadata": {},
     "output_type": "execute_result"
    }
   ],
   "source": [
    "duplicate_count = saudi_used_cars.duplicated().sum()\n",
    "duplicate_df = pd.DataFrame({\"Duplicate Rows Count\": [duplicate_count]})\n",
    "dtale.show(duplicate_df)"
   ]
  },
  {
   "cell_type": "code",
   "execution_count": 431,
   "id": "ebc23138",
   "metadata": {},
   "outputs": [
    {
     "data": {
      "text/html": [
       "\n",
       "        <iframe\n",
       "            width=\"100%\"\n",
       "            height=\"475\"\n",
       "            src=\"http://Emtnans-MacBook-Pro.local:40000/dtale/iframe/188\"\n",
       "            frameborder=\"0\"\n",
       "            allowfullscreen\n",
       "            \n",
       "        ></iframe>\n",
       "        "
      ],
      "text/plain": [
       "<IPython.lib.display.IFrame at 0x13c15fa00>"
      ]
     },
     "metadata": {},
     "output_type": "display_data"
    },
    {
     "data": {
      "text/plain": []
     },
     "execution_count": 431,
     "metadata": {},
     "output_type": "execute_result"
    }
   ],
   "source": [
    "duplicates_df = saudi_used_cars[saudi_used_cars.duplicated(keep=False)]\n",
    "dtale.show(duplicates_df)"
   ]
  },
  {
   "cell_type": "code",
   "execution_count": 432,
   "id": "701d18a7",
   "metadata": {},
   "outputs": [
    {
     "data": {
      "text/html": [
       "\n",
       "        <iframe\n",
       "            width=\"100%\"\n",
       "            height=\"475\"\n",
       "            src=\"http://Emtnans-MacBook-Pro.local:40000/dtale/iframe/189\"\n",
       "            frameborder=\"0\"\n",
       "            allowfullscreen\n",
       "            \n",
       "        ></iframe>\n",
       "        "
      ],
      "text/plain": [
       "<IPython.lib.display.IFrame at 0x13c2374c0>"
      ]
     },
     "metadata": {},
     "output_type": "display_data"
    },
    {
     "data": {
      "text/plain": []
     },
     "execution_count": 432,
     "metadata": {},
     "output_type": "execute_result"
    }
   ],
   "source": [
    "zero_price_df = saudi_used_cars[saudi_used_cars[\"Price\"] == 0.0]\n",
    "dtale.show(zero_price_df)"
   ]
  },
  {
   "cell_type": "code",
   "execution_count": 433,
   "id": "f4f5df90",
   "metadata": {},
   "outputs": [
    {
     "data": {
      "text/html": [
       "\n",
       "        <iframe\n",
       "            width=\"100%\"\n",
       "            height=\"475\"\n",
       "            src=\"http://Emtnans-MacBook-Pro.local:40000/dtale/iframe/190\"\n",
       "            frameborder=\"0\"\n",
       "            allowfullscreen\n",
       "            \n",
       "        ></iframe>\n",
       "        "
      ],
      "text/plain": [
       "<IPython.lib.display.IFrame at 0x13c078640>"
      ]
     },
     "metadata": {},
     "output_type": "display_data"
    },
    {
     "data": {
      "text/plain": []
     },
     "execution_count": 433,
     "metadata": {},
     "output_type": "execute_result"
    }
   ],
   "source": [
    "zero_price_count = (saudi_used_cars[\"Price\"] == 0.0).sum()\n",
    "zero_price_df = pd.DataFrame({\"Count of Price = 0\": [zero_price_count]})\n",
    "dtale.show(zero_price_df)"
   ]
  },
  {
   "cell_type": "markdown",
   "id": "bd2b5bc4-db37-4432-b666-0714afd0c4ca",
   "metadata": {},
   "source": [
    "## 1. Data Profiling:\n",
    "Data profiling is a comprehensive process of examining the data available in an existing dataset and collecting statistics and information about that data. "
   ]
  },
  {
   "cell_type": "code",
   "execution_count": null,
   "id": "672f2081-5a2c-4908-8cbd-29519fb3cac5",
   "metadata": {},
   "outputs": [],
   "source": []
  },
  {
   "cell_type": "markdown",
   "id": "834929aa-fd6a-4ec5-84d4-77c4b3c1a506",
   "metadata": {},
   "source": [
    "The process of profiling differs slightly for categorical and numerical variables due to their inherent differences.\n",
    "\n",
    "**The two main types of data are:**\n",
    "- Quantitative (numerical) data\n",
    "- Qualitative (categorical) data"
   ]
  },
  {
   "cell_type": "markdown",
   "id": "3a9954f5-6fbc-45b4-ad86-3e21b6e0ca2d",
   "metadata": {},
   "source": [
    "### Data Quality Checks\n",
    "Data quality checks involve the process of ensuring that the data is accurate, complete, consistent, relevant, and reliable. \n",
    "\n",
    "\n",
    "**Here are typical steps involved in checking data quality:**"
   ]
  },
  {
   "cell_type": "markdown",
   "id": "4818c876-173d-4e56-9e7d-b4334d2def25",
   "metadata": {},
   "source": [
    "#### 1. Reliability:\n",
    "Evaluate the data's source and collection process to determine its trustworthiness."
   ]
  },
  {
   "cell_type": "code",
   "execution_count": 434,
   "id": "9034ae7b-dc1d-4cba-8f9e-bb499d021cde",
   "metadata": {},
   "outputs": [],
   "source": [
    "# The dataset was sourced from Kaggle Saudi Arabia Used Car Dataset (https://www.kaggle.com/datasets/raihanmuhith/saudi-arabia-used-car/data)and primarily collected from Syarah.com, \n",
    "# a well-known online marketplace for buying and selling used cars in Saudi Arabia."
   ]
  },
  {
   "cell_type": "markdown",
   "id": "2ce0cc59-8c92-4acc-8d07-c40764e1a86b",
   "metadata": {},
   "source": [
    "#### 2. Timeliness: \n",
    "Ensure the data is up-to-date and reflective of the current situation or the period of interest for the analysis."
   ]
  },
  {
   "cell_type": "code",
   "execution_count": 435,
   "id": "4b78ae35-7226-4cb6-b8b2-a46c2ed17cf9",
   "metadata": {},
   "outputs": [],
   "source": [
    "# In this Usecase, timeliness is not critical for the analysis, so we decided to answer the analysis with datasets from one year, 2023.\n",
    "# The problem does not depend on being up-to-date."
   ]
  },
  {
   "cell_type": "markdown",
   "id": "7fab0fe2-6624-4615-b9d8-3c3669056bf8",
   "metadata": {},
   "source": [
    "#### 3. Consistency: \n",
    "\n",
    "Confirm that the data is consistent within the dataset and across multiple data sources. For example, the same data point should not have different values in different places.\n"
   ]
  },
  {
   "cell_type": "code",
   "execution_count": 436,
   "id": "7fecc573-959f-4800-8ddd-a67985c68b18",
   "metadata": {},
   "outputs": [],
   "source": [
    "# We have one dataset therefore consistency is met originally."
   ]
  },
  {
   "cell_type": "markdown",
   "id": "bec3d183-bba0-4b12-b963-487daab1e876",
   "metadata": {},
   "source": [
    "#### 4. Relevance: \n",
    "Assess whether the data is appropriate and applicable for the intended analysis. Data that is not relevant can skew results and lead to incorrect conclusions.\n",
    "\n",
    "**Key considerations for relevance include:**\n",
    "\n",
    "> 1. Sample Appropriateness: Confirm that your data sample aligns with your analysis objectives. For instance, utilizing data from the Northern region will not yield accurate insights for the Western region of the Kingdom.\n",
    ">\n",
    "> 2. Variable Selection: Any column will not be relevant for our analysis, we can get rid of these using the drop() method. We will set the “axis” argument to 1 since we’re dealing with columns, and set the “inplace” argument to True to make the change permanent.\n"
   ]
  },
  {
   "cell_type": "code",
   "execution_count": 437,
   "id": "50a934b7-a0cd-443f-8a27-f10e9a6e8647",
   "metadata": {
    "scrolled": true
   },
   "outputs": [],
   "source": [
    "# 1. Sample Appropriateness: \"Based on the data characteristics, the sample is appropriate for this analysis.\"\n",
    "# 2. Variable Selection: \"The needed variables are relevant to the analysis, and irrelevant ones will not be removed for we want to extract extra insight from them. They are: 'Region' and 'Gear_Type'"
   ]
  },
  {
   "cell_type": "markdown",
   "id": "0f5e3a2a-bbb7-4d06-8220-c93277b70146",
   "metadata": {},
   "source": [
    "#### 5. Uniqueness: \n",
    "Check for and remove duplicate records to prevent skewed analysis results.\n"
   ]
  },
  {
   "cell_type": "code",
   "execution_count": 438,
   "id": "ab36605b",
   "metadata": {},
   "outputs": [
    {
     "data": {
      "text/html": [
       "\n",
       "        <iframe\n",
       "            width=\"100%\"\n",
       "            height=\"475\"\n",
       "            src=\"http://Emtnans-MacBook-Pro.local:40000/dtale/iframe/191\"\n",
       "            frameborder=\"0\"\n",
       "            allowfullscreen\n",
       "            \n",
       "        ></iframe>\n",
       "        "
      ],
      "text/plain": [
       "<IPython.lib.display.IFrame at 0x13c078610>"
      ]
     },
     "metadata": {},
     "output_type": "display_data"
    },
    {
     "data": {
      "text/plain": []
     },
     "execution_count": 438,
     "metadata": {},
     "output_type": "execute_result"
    }
   ],
   "source": [
    "duplicate_count = saudi_used_cars.duplicated().sum()\n",
    "duplicate_df = pd.DataFrame({\"Duplicate Rows Count\": [duplicate_count]})\n",
    "dtale.show(duplicate_df)"
   ]
  },
  {
   "cell_type": "code",
   "execution_count": 439,
   "id": "a509a7aa-58f4-4d39-8eb8-e8298a21f2a7",
   "metadata": {},
   "outputs": [
    {
     "data": {
      "text/html": [
       "\n",
       "        <iframe\n",
       "            width=\"100%\"\n",
       "            height=\"475\"\n",
       "            src=\"http://Emtnans-MacBook-Pro.local:40000/dtale/iframe/192\"\n",
       "            frameborder=\"0\"\n",
       "            allowfullscreen\n",
       "            \n",
       "        ></iframe>\n",
       "        "
      ],
      "text/plain": [
       "<IPython.lib.display.IFrame at 0x13c221d00>"
      ]
     },
     "metadata": {},
     "output_type": "display_data"
    },
    {
     "data": {
      "text/plain": []
     },
     "execution_count": 439,
     "metadata": {},
     "output_type": "execute_result"
    }
   ],
   "source": [
    "duplicates_df = saudi_used_cars[saudi_used_cars.duplicated(keep=False)]\n",
    "dtale.show(duplicates_df)"
   ]
  },
  {
   "cell_type": "code",
   "execution_count": 440,
   "id": "04c62559-3b48-48cf-a4e9-857e2e0ff416",
   "metadata": {},
   "outputs": [],
   "source": [
    "# go to delete duplicates columns"
   ]
  },
  {
   "cell_type": "markdown",
   "id": "c7724ac2-4ea2-4cf4-a9e0-e64368f87b92",
   "metadata": {},
   "source": [
    "#### 6. Completeness: \n",
    "Ensure that no critical data is missing. This might mean checking for null values or required fields that are empty.\n",
    "\n",
    "We will start by checking the dataset for missing or null values. For this, we can use the isna() method which returns a dataframe of boolean values indicating if a field is null or not. To group all missing values by column, we can include the sum() method."
   ]
  },
  {
   "cell_type": "code",
   "execution_count": 441,
   "id": "7f90ad11",
   "metadata": {},
   "outputs": [],
   "source": [
    "# Dataset is complete with no null or missing values detected. Moving to the next steps."
   ]
  },
  {
   "cell_type": "code",
   "execution_count": 442,
   "id": "45d3ec8e",
   "metadata": {},
   "outputs": [
    {
     "data": {
      "text/html": [
       "\n",
       "        <iframe\n",
       "            width=\"100%\"\n",
       "            height=\"475\"\n",
       "            src=\"http://Emtnans-MacBook-Pro.local:40000/dtale/iframe/193\"\n",
       "            frameborder=\"0\"\n",
       "            allowfullscreen\n",
       "            \n",
       "        ></iframe>\n",
       "        "
      ],
      "text/plain": [
       "<IPython.lib.display.IFrame at 0x13c1dcf10>"
      ]
     },
     "metadata": {},
     "output_type": "display_data"
    },
    {
     "data": {
      "text/plain": []
     },
     "execution_count": 442,
     "metadata": {},
     "output_type": "execute_result"
    }
   ],
   "source": [
    "dtale.show(pd.DataFrame(saudi_used_cars.columns, columns=[\"Column Names\"]))"
   ]
  },
  {
   "cell_type": "code",
   "execution_count": 443,
   "id": "3e77c502",
   "metadata": {},
   "outputs": [
    {
     "data": {
      "text/html": [
       "\n",
       "        <iframe\n",
       "            width=\"100%\"\n",
       "            height=\"475\"\n",
       "            src=\"http://Emtnans-MacBook-Pro.local:40000/dtale/iframe/194\"\n",
       "            frameborder=\"0\"\n",
       "            allowfullscreen\n",
       "            \n",
       "        ></iframe>\n",
       "        "
      ],
      "text/plain": [
       "<IPython.lib.display.IFrame at 0x13c23df40>"
      ]
     },
     "metadata": {},
     "output_type": "display_data"
    },
    {
     "data": {
      "text/plain": []
     },
     "execution_count": 443,
     "metadata": {},
     "output_type": "execute_result"
    }
   ],
   "source": [
    "dtale.show(saudi_used_cars.describe(include='object'))\n"
   ]
  },
  {
   "cell_type": "code",
   "execution_count": 444,
   "id": "370ac6a7",
   "metadata": {},
   "outputs": [
    {
     "data": {
      "text/html": [
       "\n",
       "        <iframe\n",
       "            width=\"100%\"\n",
       "            height=\"475\"\n",
       "            src=\"http://Emtnans-MacBook-Pro.local:40000/dtale/iframe/195\"\n",
       "            frameborder=\"0\"\n",
       "            allowfullscreen\n",
       "            \n",
       "        ></iframe>\n",
       "        "
      ],
      "text/plain": [
       "<IPython.lib.display.IFrame at 0x13c22d910>"
      ]
     },
     "metadata": {},
     "output_type": "display_data"
    },
    {
     "data": {
      "text/plain": []
     },
     "execution_count": 444,
     "metadata": {},
     "output_type": "execute_result"
    }
   ],
   "source": [
    "dtale.show(saudi_used_cars.isna().sum() + (saudi_used_cars == \"-\").sum())\n",
    "\n"
   ]
  },
  {
   "cell_type": "code",
   "execution_count": 445,
   "id": "df7d5d93",
   "metadata": {},
   "outputs": [
    {
     "data": {
      "text/html": [
       "\n",
       "        <iframe\n",
       "            width=\"100%\"\n",
       "            height=\"475\"\n",
       "            src=\"http://Emtnans-MacBook-Pro.local:40000/dtale/iframe/196\"\n",
       "            frameborder=\"0\"\n",
       "            allowfullscreen\n",
       "            \n",
       "        ></iframe>\n",
       "        "
      ],
      "text/plain": [
       "<IPython.lib.display.IFrame at 0x13c221310>"
      ]
     },
     "metadata": {},
     "output_type": "display_data"
    },
    {
     "data": {
      "text/plain": []
     },
     "execution_count": 445,
     "metadata": {},
     "output_type": "execute_result"
    }
   ],
   "source": [
    "dtale.show(saudi_used_cars.isin([\"N/A\", \"None\", \"undefined\", \"?\"]).sum())\n"
   ]
  },
  {
   "cell_type": "code",
   "execution_count": 446,
   "id": "abec31c4-0904-4b73-8cee-b7bc14ab1e67",
   "metadata": {},
   "outputs": [],
   "source": [
    "# go to clean them "
   ]
  },
  {
   "cell_type": "markdown",
   "id": "b40de63c-5a1d-49ed-a87e-c5229ee08bbe",
   "metadata": {},
   "source": [
    "#### 7. Check Accuracy:\n",
    "\n",
    "Verify that the data is correct and precise. This could involve comparing data samples with known sources or using validation rules.\n",
    "\n",
    "**The process includes:**\n",
    "1. Validating the appropriateness of data types for the dataset.\n",
    "2. Identifying outliers  using established validation  rule"
   ]
  },
  {
   "cell_type": "code",
   "execution_count": 447,
   "id": "68be5334-ae10-4abd-8097-3259fe5e72c8",
   "metadata": {},
   "outputs": [],
   "source": [
    "# check columns types "
   ]
  },
  {
   "cell_type": "code",
   "execution_count": 448,
   "id": "2ee790ba-dcc0-45f1-b6f8-0133e913e149",
   "metadata": {},
   "outputs": [],
   "source": [
    "# go to clean them "
   ]
  },
  {
   "cell_type": "code",
   "execution_count": 449,
   "id": "c69b303a-5459-45f9-a28e-fcee45c21c05",
   "metadata": {},
   "outputs": [],
   "source": [
    "# check outliers "
   ]
  },
  {
   "cell_type": "markdown",
   "id": "4aca9d42-add6-45db-92cf-1f6dae5f277b",
   "metadata": {},
   "source": [
    "**What is an Outlier?** \n",
    "Outlier is an row/observation that appears far away and diverges from an overall pattern in a sample.\n",
    "\n",
    "**What are the types of Outliers?**\n",
    "1. Univariate: These outliers can be found when we look at distribution of a single variable\n",
    "2. Multivariate: are outliers in an n-dimensional space. In order to find them, you have to look at distributions in multi-dimensions. example (hight=100, weight=100) for a person\n",
    "\n",
    "**What causes Outliers?**\n",
    "Whenever we come across outliers, the ideal way to tackle them is to find out the reason of having these outliers. The method to deal with them would then depend on the reason of their occurrence.\n",
    "\n",
    "Let’s understand various types of outliers:\n",
    "\n",
    "1. Data Entry Errors:- Human errors such as errors caused during data collection, recording, or entry can cause outliers in data.\n",
    "2. Measurement Error: It is the most common source of outliers. This is caused when the measurement instrument used turns out to be faulty.\n",
    "3. Data Processing Error: Whenever we perform data mining, we extract data from multiple sources. It is possible that some manipulation or extraction errors may lead to outliers in the dataset.\n",
    "4. Sampling error: For instance, we have to measure the height of athletes. By mistake, we include a few basketball players in the sample. This inclusion is likely to cause outliers in the dataset.\n",
    "5. Natural Outlier: When an outlier is not artificial (due to error), it is a natural outlier. For instance: In my last assignment with one of the renowned insurance company, I noticed that the performance of top 50 financial advisors was far higher than rest of the population. Surprisingly, it was not due to any error. Hence, whenever we perform any data mining activity with advisors, we used to treat this segment separately.\n",
    "\n",
    "\n",
    "**What is the impact of Outliers on a dataset?**\n",
    "\n",
    "\n",
    "![image.png](https://www.analyticsvidhya.com/wp-content/uploads/2015/02/Outlier_31.png)\n",
    "\n",
    "\n",
    "\n",
    "**How to detect Outliers?**\n",
    "\n",
    "1. Most commonly used method to detect outliers is visualization (Univariate Graphical Analysis).\n",
    "\n",
    "We use 3 common visualization methods:\n",
    ">- Box-plot: A box plot is a method for graphically depicting groups of numerical data through their quartiles. The box extends from the Q1 to Q3 quartile values of the data, with a line at the median (Q2). The whiskers extend from the edges of the box to show the range of the data. Outlier points are those past the end of the whiskers. Box plots show robust measures of location and spread as well as providing information about symmetry and outliers.\n",
    ">\n",
    ">  \n",
    ">![image.png](https://miro.medium.com/v2/resize:fit:698/format:webp/1*VK5iHA2AB28HSZwWwUbNYg.png)\n",
    ">\n",
    ">\n",
    ">- Histogram\n",
    ">- Scatter Plot: A scatter plot is a mathematical diagram using Cartesian coordinates to display values for two variables for a set of data. The data are displayed as a collection of points, each having the value of one variable determining the position on the horizontal axis and the value of the other variable determining the position on the vertical axis. The points that are far from the population can be termed as an outlier.\n",
    ">\n",
    ">  \n",
    ">![image.png](https://miro.medium.com/v2/resize:fit:4800/format:webp/1*Ov6aH-8yIwNoUxtMFwgx4g.png)\n",
    ">\n",
    ">\n",
    "\n",
    "2. Using statistical method (Univariate Non-Graphical analysis):\n",
    ">- Any value, which is beyond the range of -1.5 x IQR to 1.5 x IQR\n",
    " \n",
    "![image.png](https://www.whatissixsigma.net/wp-content/uploads/2015/07/Box-Plot-Diagram-to-identify-Outliers-figure-1.png)\n",
    "\n",
    ">- Use capping methods. Any value which out of range of 5th and 95th percentile can be considered as outlier\n",
    ">- Data points, three or more standard deviation away from mean are considered outlier: The Z-score is the signed number of standard deviations by which the value of an observation or data point is above the mean value of what is being observed or measured. While calculating the Z-score we re-scale and center the data and look for data points that are too far from zero. These data points which are way too far from zero will be treated as the outliers. In most of the cases, a threshold of 3 or -3 is used i.e if the Z-score value is greater than or less than 3 or -3 respectively, that data point will be identified as outliers.\n",
    "> - Outlier detection is merely a special case of the examination of data for influential data points and it also depends on the business understanding\n"
   ]
  },
  {
   "cell_type": "code",
   "execution_count": 450,
   "id": "74ea6194-cc01-45d8-be38-c4543eb1714e",
   "metadata": {},
   "outputs": [],
   "source": [
    "# go to univariate graphical analysis\n",
    "# go to lesson : data visualisation 1 - chart type section\n",
    "# then go to univariate graphical analysis\n",
    "# detect outliers using graphs varbaly"
   ]
  },
  {
   "cell_type": "code",
   "execution_count": 451,
   "id": "48ecf77b-480c-4f64-9485-95be805bc357",
   "metadata": {},
   "outputs": [],
   "source": [
    "# go to lesson: statistics 1 then statistics 3\n",
    "# then go to univariate Non graphical analysis\n",
    "# detect outliers using numerical statistics "
   ]
  },
  {
   "cell_type": "code",
   "execution_count": null,
   "id": "ee200da8-62b0-492d-b118-f4d665a1fb16",
   "metadata": {},
   "outputs": [],
   "source": []
  },
  {
   "cell_type": "code",
   "execution_count": 452,
   "id": "4e66d611-6958-4860-8522-9ada7fce40b0",
   "metadata": {},
   "outputs": [],
   "source": [
    "# go to delete ouliers"
   ]
  },
  {
   "attachments": {},
   "cell_type": "markdown",
   "id": "4e886ec7-388c-414b-ada7-803c2fb1f2cb",
   "metadata": {},
   "source": [
    "## 2. Data Cleaning: \n",
    "\n",
    "Preliminary findings from data profiling can lead to cleaning the data by:\n",
    "- Handling missing values\n",
    "- Correcting errors.\n",
    "- Dealing with outliers.\n",
    "\n",
    "-------------------\n",
    "\n"
   ]
  },
  {
   "cell_type": "markdown",
   "id": "21876b48-f5ec-4970-85a9-0520d45d8841",
   "metadata": {},
   "source": [
    "### Handling missing values:"
   ]
  },
  {
   "cell_type": "markdown",
   "id": "c890d5a2-2a65-4090-9427-f89c0f011d3f",
   "metadata": {},
   "source": [
    "**Why my data has missing values?**\n",
    "They may occur at two stages:\n",
    "1. Data Extraction: It is possible that there are problems with extraction process. Errors at data extraction stage are typically easy to find and can be corrected easily as well.\n",
    "2. Data collection: These errors occur at time of data collection and are harder to correct.\n",
    "\n",
    "**Why do we need to handle the missing data?**\n",
    "To avoid:\n",
    "- Bias the conclusions.\n",
    "- Leading the business to make wrong decisions.\n",
    "\n",
    "**Which are the methods to treat missing values ?**\n",
    "1. Deletion: we delete rows where any of the variable is missing. Simplicity is one of the major advantage of this method, but this method reduces the power of model because it reduces the sample size.\n",
    "\n",
    "2. Imputation: is a method to fill in the missing values with estimated ones. This imputation is one of the most frequently used methods.\n",
    "\n",
    "    2.1. Mean/ Mode/ Median Imputation: It consists of replacing the missing data for a given attribute by the mean or median (quantitative attribute) or mode (qualitative attribute) of all known values of that variable.\n",
    "    > It can be of two types:\n",
    "    > - Generalized Imputation: In this case, we calculate the mean or median for all non missing values of that variable then replace missing value with mean or median.\n",
    "    > - Similar case Imputation: In this case, we calculate average for each group individually of non missing values then replace the missing value based on the group.\n",
    "\n",
    "    2.2. Constant Value\n",
    "   \n",
    "    2.3. Forward Filling\n",
    "   \n",
    "    2.4. Backward Filling\n",
    "\n",
    "6. Prediction Model:  Prediction model is one of the sophisticated method for handling missing data. Here, we create a predictive model to estimate values that will substitute the missing data.  In this case, we divide our data set into two sets: One set with no missing values for the variable and another one with missing values. First data set become training data set of the model while second data set with missing values is test data set and variable with missing values is treated as target variable. Next, we create a model to predict target variable based on other attributes of the training data set and populate missing values of test data set.\n",
    "\n",
    "> There are 2 drawbacks for this approach:\n",
    "> - The model estimated values are usually more well-behaved than the true values\n",
    "> - If there are no relationships with attributes in the data set and the attribute with missing values, then the model will not be precise for estimating missing values.\n",
    "\n",
    "9. KNN Imputation: In this method of imputation, the missing values of an attribute are imputed using the given number of attributes that are most similar to the attribute whose values are missing. The similarity of two attributes is determined using a distance function. It is also known to have certain advantage & disadvantages.\n",
    "\n",
    "   > **Advantages:**\n",
    "   > - k-nearest neighbour can predict both qualitative & quantitative attributes\n",
    "   > - Creation of predictive model for each attribute with missing data is not required\n",
    "   > - Attributes with multiple missing values can be easily treated\n",
    "   > - Correlation structure of the data is taken into consideration\n",
    "\n",
    "   > **Disadvantage:**\n",
    "   > - KNN algorithm is very time-consuming in analyzing large database. It searches through all the dataset looking for the most similar instances.\n",
    "   > - Choice of k-value is very critical. Higher value of k would include attributes which are significantly different from what we need whereas lower value of k implies missing out of significant attributes.\n",
    "\n",
    "--------------------\n"
   ]
  },
  {
   "cell_type": "code",
   "execution_count": 453,
   "id": "5d483e3e",
   "metadata": {},
   "outputs": [
    {
     "data": {
      "text/html": [
       "\n",
       "        <iframe\n",
       "            width=\"100%\"\n",
       "            height=\"475\"\n",
       "            src=\"http://Emtnans-MacBook-Pro.local:40000/dtale/iframe/197\"\n",
       "            frameborder=\"0\"\n",
       "            allowfullscreen\n",
       "            \n",
       "        ></iframe>\n",
       "        "
      ],
      "text/plain": [
       "<IPython.lib.display.IFrame at 0x13c22db20>"
      ]
     },
     "metadata": {},
     "output_type": "display_data"
    },
    {
     "data": {
      "text/plain": []
     },
     "execution_count": 453,
     "metadata": {},
     "output_type": "execute_result"
    }
   ],
   "source": [
    "dtale.show(pd.DataFrame({\"Dataset Size\": [saudi_used_cars.shape]}))"
   ]
  },
  {
   "cell_type": "code",
   "execution_count": 454,
   "id": "57e741fb-71c1-46ad-a526-d8f0b1564dc3",
   "metadata": {},
   "outputs": [
    {
     "name": "stderr",
     "output_type": "stream",
     "text": [
      "/var/folders/rx/2m4195h90h7983jbhp4kkypc0000gn/T/ipykernel_4904/4071860417.py:2: FutureWarning:\n",
      "\n",
      "DataFrame.applymap has been deprecated. Use DataFrame.map instead.\n",
      "\n"
     ]
    },
    {
     "data": {
      "text/html": [
       "\n",
       "        <iframe\n",
       "            width=\"100%\"\n",
       "            height=\"475\"\n",
       "            src=\"http://Emtnans-MacBook-Pro.local:40000/dtale/iframe/198\"\n",
       "            frameborder=\"0\"\n",
       "            allowfullscreen\n",
       "            \n",
       "        ></iframe>\n",
       "        "
      ],
      "text/plain": [
       "<IPython.lib.display.IFrame at 0x13c237d30>"
      ]
     },
     "metadata": {},
     "output_type": "display_data"
    },
    {
     "data": {
      "text/plain": []
     },
     "execution_count": 454,
     "metadata": {},
     "output_type": "execute_result"
    }
   ],
   "source": [
    "# Ensure consistent formatting by stripping spaces\n",
    "saudi_used_cars = saudi_used_cars.applymap(lambda x: x.strip() if isinstance(x, str) else x)\n",
    "\n",
    "# Drop exact duplicate rows\n",
    "saudi_used_cars = saudi_used_cars.drop_duplicates()\n",
    "dtale.show(saudi_used_cars)\n"
   ]
  },
  {
   "cell_type": "code",
   "execution_count": 455,
   "id": "90cde3cc",
   "metadata": {},
   "outputs": [
    {
     "data": {
      "text/html": [
       "\n",
       "        <iframe\n",
       "            width=\"100%\"\n",
       "            height=\"475\"\n",
       "            src=\"http://Emtnans-MacBook-Pro.local:40000/dtale/iframe/199\"\n",
       "            frameborder=\"0\"\n",
       "            allowfullscreen\n",
       "            \n",
       "        ></iframe>\n",
       "        "
      ],
      "text/plain": [
       "<IPython.lib.display.IFrame at 0x13c23d130>"
      ]
     },
     "metadata": {},
     "output_type": "display_data"
    },
    {
     "data": {
      "text/plain": []
     },
     "execution_count": 455,
     "metadata": {},
     "output_type": "execute_result"
    }
   ],
   "source": [
    "dtale.show(pd.DataFrame({\"Dataset Size\": [saudi_used_cars.shape]}))"
   ]
  },
  {
   "cell_type": "code",
   "execution_count": 456,
   "id": "4ae03588",
   "metadata": {},
   "outputs": [
    {
     "data": {
      "text/html": [
       "\n",
       "        <iframe\n",
       "            width=\"100%\"\n",
       "            height=\"475\"\n",
       "            src=\"http://Emtnans-MacBook-Pro.local:40000/dtale/iframe/200\"\n",
       "            frameborder=\"0\"\n",
       "            allowfullscreen\n",
       "            \n",
       "        ></iframe>\n",
       "        "
      ],
      "text/plain": [
       "<IPython.lib.display.IFrame at 0x13c161e80>"
      ]
     },
     "metadata": {},
     "output_type": "display_data"
    },
    {
     "data": {
      "text/plain": []
     },
     "execution_count": 456,
     "metadata": {},
     "output_type": "execute_result"
    }
   ],
   "source": [
    "duplicates_df = saudi_used_cars[saudi_used_cars.duplicated(keep=False)]\n",
    "dtale.show(duplicates_df)"
   ]
  },
  {
   "cell_type": "code",
   "execution_count": 457,
   "id": "14b42e70",
   "metadata": {},
   "outputs": [
    {
     "data": {
      "text/html": [
       "\n",
       "        <iframe\n",
       "            width=\"100%\"\n",
       "            height=\"475\"\n",
       "            src=\"http://Emtnans-MacBook-Pro.local:40000/dtale/iframe/201\"\n",
       "            frameborder=\"0\"\n",
       "            allowfullscreen\n",
       "            \n",
       "        ></iframe>\n",
       "        "
      ],
      "text/plain": [
       "<IPython.lib.display.IFrame at 0x13c24a5e0>"
      ]
     },
     "metadata": {},
     "output_type": "display_data"
    },
    {
     "data": {
      "text/plain": []
     },
     "execution_count": 457,
     "metadata": {},
     "output_type": "execute_result"
    }
   ],
   "source": [
    "cars_new = saudi_used_cars[(saudi_used_cars[\"Negotiable\"] <= False) & (saudi_used_cars[\"Price\"] == 0)]\n",
    "dtale.show(cars_new)"
   ]
  },
  {
   "cell_type": "code",
   "execution_count": 458,
   "id": "eb835432",
   "metadata": {},
   "outputs": [],
   "source": [
    "# Drop rows where \"Negotiable\" is False or less and \"Price\" is 0\n",
    "saudi_used_cars = saudi_used_cars[~((saudi_used_cars[\"Negotiable\"] <= False) & (saudi_used_cars[\"Price\"] == 0))]\n"
   ]
  },
  {
   "cell_type": "code",
   "execution_count": 459,
   "id": "57460d47",
   "metadata": {},
   "outputs": [
    {
     "data": {
      "text/html": [
       "\n",
       "        <iframe\n",
       "            width=\"100%\"\n",
       "            height=\"475\"\n",
       "            src=\"http://Emtnans-MacBook-Pro.local:40000/dtale/iframe/202\"\n",
       "            frameborder=\"0\"\n",
       "            allowfullscreen\n",
       "            \n",
       "        ></iframe>\n",
       "        "
      ],
      "text/plain": [
       "<IPython.lib.display.IFrame at 0x13bfc9850>"
      ]
     },
     "metadata": {},
     "output_type": "display_data"
    },
    {
     "data": {
      "text/plain": []
     },
     "execution_count": 459,
     "metadata": {},
     "output_type": "execute_result"
    }
   ],
   "source": [
    "saudi_used_cars = saudi_used_cars.reset_index(drop=True)\n",
    "\n",
    "# Show updated DataFrame in Dtale\n",
    "dtale.show(saudi_used_cars)"
   ]
  },
  {
   "cell_type": "code",
   "execution_count": 460,
   "id": "d3ee6699",
   "metadata": {},
   "outputs": [
    {
     "data": {
      "text/html": [
       "\n",
       "        <iframe\n",
       "            width=\"100%\"\n",
       "            height=\"475\"\n",
       "            src=\"http://Emtnans-MacBook-Pro.local:40000/dtale/iframe/203\"\n",
       "            frameborder=\"0\"\n",
       "            allowfullscreen\n",
       "            \n",
       "        ></iframe>\n",
       "        "
      ],
      "text/plain": [
       "<IPython.lib.display.IFrame at 0x13bf9bfa0>"
      ]
     },
     "metadata": {},
     "output_type": "display_data"
    },
    {
     "data": {
      "text/plain": []
     },
     "execution_count": 460,
     "metadata": {},
     "output_type": "execute_result"
    }
   ],
   "source": [
    "cars_new = saudi_used_cars[(saudi_used_cars[\"Negotiable\"] <= False) & (saudi_used_cars[\"Price\"] == 0)]\n",
    "dtale.show(cars_new)"
   ]
  },
  {
   "cell_type": "code",
   "execution_count": 461,
   "id": "78d86064",
   "metadata": {},
   "outputs": [
    {
     "data": {
      "text/html": [
       "\n",
       "        <iframe\n",
       "            width=\"100%\"\n",
       "            height=\"475\"\n",
       "            src=\"http://Emtnans-MacBook-Pro.local:40000/dtale/iframe/204\"\n",
       "            frameborder=\"0\"\n",
       "            allowfullscreen\n",
       "            \n",
       "        ></iframe>\n",
       "        "
      ],
      "text/plain": [
       "<IPython.lib.display.IFrame at 0x13c20e760>"
      ]
     },
     "metadata": {},
     "output_type": "display_data"
    },
    {
     "data": {
      "text/plain": []
     },
     "execution_count": 461,
     "metadata": {},
     "output_type": "execute_result"
    }
   ],
   "source": [
    "cars_new = saudi_used_cars[saudi_used_cars[\"Price\"] == 1]\n",
    "dtale.show(cars_new)"
   ]
  },
  {
   "cell_type": "code",
   "execution_count": 462,
   "id": "e8675da2",
   "metadata": {},
   "outputs": [],
   "source": [
    "saudi_used_cars = saudi_used_cars[saudi_used_cars[\"Price\"] != 1]\n",
    "saudi_used_cars = saudi_used_cars.reset_index(drop=True)"
   ]
  },
  {
   "cell_type": "code",
   "execution_count": 463,
   "id": "99041bc8",
   "metadata": {},
   "outputs": [
    {
     "data": {
      "text/html": [
       "\n",
       "        <iframe\n",
       "            width=\"100%\"\n",
       "            height=\"475\"\n",
       "            src=\"http://Emtnans-MacBook-Pro.local:40000/dtale/iframe/205\"\n",
       "            frameborder=\"0\"\n",
       "            allowfullscreen\n",
       "            \n",
       "        ></iframe>\n",
       "        "
      ],
      "text/plain": [
       "<IPython.lib.display.IFrame at 0x13bfab9d0>"
      ]
     },
     "metadata": {},
     "output_type": "display_data"
    },
    {
     "data": {
      "text/plain": []
     },
     "execution_count": 463,
     "metadata": {},
     "output_type": "execute_result"
    }
   ],
   "source": [
    "cars_new = saudi_used_cars[saudi_used_cars[\"Price\"] == 1]\n",
    "dtale.show(cars_new)"
   ]
  },
  {
   "cell_type": "code",
   "execution_count": 464,
   "id": "cad3ae0e",
   "metadata": {},
   "outputs": [
    {
     "data": {
      "text/html": [
       "\n",
       "        <iframe\n",
       "            width=\"100%\"\n",
       "            height=\"475\"\n",
       "            src=\"http://Emtnans-MacBook-Pro.local:40000/dtale/iframe/206\"\n",
       "            frameborder=\"0\"\n",
       "            allowfullscreen\n",
       "            \n",
       "        ></iframe>\n",
       "        "
      ],
      "text/plain": [
       "<IPython.lib.display.IFrame at 0x13bfabc40>"
      ]
     },
     "metadata": {},
     "output_type": "display_data"
    },
    {
     "data": {
      "text/plain": []
     },
     "execution_count": 464,
     "metadata": {},
     "output_type": "execute_result"
    }
   ],
   "source": [
    "gear_type_mapping = {'Manual': 0, 'Automatic': 1}\n",
    "options_mapping = {'Standard': 1, 'Semi Full': 2, 'Full': 3}\n",
    "\n",
    "# Apply mappings\n",
    "saudi_used_cars['Gear_Type'] = saudi_used_cars['Gear_Type'].map(gear_type_mapping)\n",
    "saudi_used_cars['Options'] = saudi_used_cars['Options'].map(options_mapping)\n",
    "\n",
    "# Launch D-Tale\n",
    "dtale.show(saudi_used_cars[['Gear_Type', 'Options', 'Price']])"
   ]
  },
  {
   "cell_type": "code",
   "execution_count": 481,
   "id": "890bb044",
   "metadata": {},
   "outputs": [
    {
     "data": {
      "text/html": [
       "\n",
       "        <iframe\n",
       "            width=\"100%\"\n",
       "            height=\"475\"\n",
       "            src=\"http://Emtnans-MacBook-Pro.local:40000/dtale/iframe/211\"\n",
       "            frameborder=\"0\"\n",
       "            allowfullscreen\n",
       "            \n",
       "        ></iframe>\n",
       "        "
      ],
      "text/plain": [
       "<IPython.lib.display.IFrame at 0x13c345eb0>"
      ]
     },
     "metadata": {},
     "output_type": "display_data"
    },
    {
     "data": {
      "text/plain": []
     },
     "execution_count": 481,
     "metadata": {},
     "output_type": "execute_result"
    }
   ],
   "source": [
    "dtale.show(saudi_used_cars)"
   ]
  },
  {
   "cell_type": "code",
   "execution_count": 465,
   "id": "01287962-8077-4c01-8d1d-5f8aed6cb37a",
   "metadata": {},
   "outputs": [],
   "source": [
    "# go back to 6th dimention --> Completeness"
   ]
  },
  {
   "cell_type": "markdown",
   "id": "f7cee10f-0af8-44e5-b595-8e965294daad",
   "metadata": {},
   "source": [
    "### Correcting errors\n",
    "\n",
    "-------------------"
   ]
  },
  {
   "cell_type": "code",
   "execution_count": null,
   "id": "06273b88-a169-42e8-81f5-5d71cb3f9c21",
   "metadata": {},
   "outputs": [],
   "source": []
  },
  {
   "cell_type": "code",
   "execution_count": 466,
   "id": "f1d95da5-a3ba-473a-8243-aa177cadae20",
   "metadata": {},
   "outputs": [],
   "source": [
    "# go back to 7th dimension Accuracy "
   ]
  },
  {
   "cell_type": "markdown",
   "id": "5ecc7dbb-6867-44cf-8f99-1b969a80be40",
   "metadata": {},
   "source": [
    "### Dealing with outliers:"
   ]
  },
  {
   "attachments": {},
   "cell_type": "markdown",
   "id": "88347887-4bdf-48af-9486-cb8fe80c97af",
   "metadata": {},
   "source": [
    "**How to remove Outliers?**\n",
    "Most of the ways to deal with outliers are similar to the methods of missing values like deleting rows, transforming them, binning them, treat them as a separate group, imputing values and other statistical methods. Here, we will discuss the common techniques used to deal with outliers:\n",
    "\n",
    "1. Deleting rows: We delete outlier values if it is due to data entry error, data processing error or outlier rows are very small in numbers. We can also use trimming at both ends to remove outliers.\n",
    "\n",
    "2. Imputing: Like imputation of missing values, we can also impute outliers. We can use mean, median, mode imputation methods. Before imputing values, we should analyse if it is natural outlier or artificial. If it is artificial, we can go with imputing values. We can also use statistical model to predict values of outlier rows and after that we can impute it with predicted values.\n",
    "\n",
    "3. Treat separately: If there are significant number of outliers, we should treat them separately in the statistical model. One of the approach is to treat both groups as two different groups and build individual model for both groups and then combine the output.\n"
   ]
  },
  {
   "cell_type": "code",
   "execution_count": null,
   "id": "25a585f0-2b9c-42fa-bf21-cacc6aa3be3f",
   "metadata": {},
   "outputs": [],
   "source": []
  },
  {
   "cell_type": "markdown",
   "id": "98548b66-e309-4eb8-a5dc-65fe0abbf1e8",
   "metadata": {},
   "source": [
    "## 3. Univariate Analysis: \n",
    "\n",
    "This involves examining single variables to understand their characteristics (distribution, central tendency, dispersion, and shape).\n",
    "\n",
    "We calculate **numerical values** about the data that tells us about the distribution of the data. We also **draw graphs** showing visually how the data is distributed. **To answer the following questions about Features/characteristics of Data:**\n",
    "- Where is the center of the data? (location)\n",
    "- How much does the data vary? (scale)\n",
    "- What is the shape of the data? (shape)\n",
    "\n",
    "**The benefits of this analysis:**\n",
    "Statistics summary gives a high-level idea to identify whether the data has any outliers, data entry error, distribution of data such as the data is normally distributed or left/right skewed\n",
    "\n",
    "**In this step, we will explore variables one by one using following approaches:**"
   ]
  },
  {
   "cell_type": "markdown",
   "id": "d6718111-7ac2-4fff-9851-654655b62e0b",
   "metadata": {},
   "source": [
    "### 1. Univariate Graphical Analysis:\n",
    "Method to perform uni-variate analysis will depend on whether the variable type is categorical or numerical."
   ]
  },
  {
   "cell_type": "code",
   "execution_count": null,
   "id": "db79d803-b75c-4686-a623-e8420321a90f",
   "metadata": {},
   "outputs": [],
   "source": []
  },
  {
   "cell_type": "markdown",
   "id": "0d57c4b9-9bb3-494d-85dd-b8d39afda139",
   "metadata": {},
   "source": [
    "#### I. Categorical Variables:\n",
    "\n",
    "we’ll use frequency table to understand distribution of each category\n",
    "- Bar Chart (Ordinal) - Orderd\n",
    "- Pie Chart (Nominal) - non Orderd"
   ]
  },
  {
   "cell_type": "code",
   "execution_count": null,
   "id": "72ece4b7-5508-403a-8fb0-f519fc74272a",
   "metadata": {},
   "outputs": [],
   "source": []
  },
  {
   "cell_type": "markdown",
   "id": "d2641f0d-80f2-493b-99b7-15476379a1e2",
   "metadata": {},
   "source": [
    "#### II. Numerical Variables:\n",
    "\n",
    "we need to understand the central tendency and spread of the variable (Descriptive Analysis) using:\n",
    "   - Box plot\n",
    "   - Histogram"
   ]
  },
  {
   "cell_type": "code",
   "execution_count": null,
   "id": "5be16f08-a072-4a02-a3ee-6f9d57786fb4",
   "metadata": {},
   "outputs": [],
   "source": []
  },
  {
   "cell_type": "markdown",
   "id": "d66677d3-44ad-414f-9b39-f9c1995ad043",
   "metadata": {},
   "source": [
    "### 2. Univariate Non-Graphical analysis: \n",
    "\n",
    "- Where is the center of the data? (location) --> **Measures of central tendency**\n",
    "- How much does the data vary? (scale) --> **Measure of variability**\n",
    "- What is the shape of the data? (shape) --> **Measures of variation combined with an average (measure of center) gives a good picture of the distribution of the data.**"
   ]
  },
  {
   "cell_type": "code",
   "execution_count": null,
   "id": "f1058d84-e61e-4f5b-b66a-29931e77821b",
   "metadata": {},
   "outputs": [],
   "source": []
  },
  {
   "cell_type": "markdown",
   "id": "f09bb809-0edd-432b-bf23-abd0840b3e16",
   "metadata": {},
   "source": [
    "## 4. Bivariate/Multivariate Analysis:\n",
    "\n",
    "Here, you look at the relationships between two or more variables. This can involve looking for correlations, patterns, and trends that suggest a relationship or an association.\n",
    "\n",
    "We can perform bi-variate analysis for any combination of categorical and numerical variables. The combination can be:\n",
    "| bi-variate variables   | Plot type |\n",
    "| ------------- | ------------- |\n",
    "| Categorical & Categorical| Stacked Bar Chart |\n",
    "| Categorical & numerical  | scatter plot, histogram, box plot|\n",
    "| numerical  & numerical  | Scatter plot, line chart| \n",
    "\n",
    "\n",
    "Multivariate Analysis:\n",
    "- Heat map\n",
    "- Bar Chart\n",
    "- Scatter Chart\n",
    "- Line Chart"
   ]
  },
  {
   "cell_type": "markdown",
   "id": "838f2864-ce9e-4f15-99c8-052d053154a7",
   "metadata": {},
   "source": [
    "**Categorical & Categorical --> (Stacked Column Chart)**"
   ]
  },
  {
   "cell_type": "code",
   "execution_count": null,
   "id": "73f9f2ac-8477-49ea-9c68-4fe44d4395b6",
   "metadata": {},
   "outputs": [],
   "source": []
  },
  {
   "cell_type": "markdown",
   "id": "730e088f-fe13-40da-8fbb-686f5135fa4d",
   "metadata": {},
   "source": [
    "**Categorical & numerical --> (scatter plot, histogram, box plot)**"
   ]
  },
  {
   "cell_type": "code",
   "execution_count": null,
   "id": "3590e345-2051-4215-91ac-07d196b510ef",
   "metadata": {},
   "outputs": [],
   "source": []
  },
  {
   "cell_type": "markdown",
   "id": "20aed48d-b78e-46da-963f-e7f15e2f4dc7",
   "metadata": {},
   "source": [
    "**numerical & numerical --> (Scatter plot, line chart)**"
   ]
  },
  {
   "cell_type": "code",
   "execution_count": null,
   "id": "41023177-01cb-4f39-a750-12be71b13bda",
   "metadata": {},
   "outputs": [],
   "source": []
  },
  {
   "cell_type": "markdown",
   "id": "efb43b30-b1f0-48a4-a19c-195810cc8a0f",
   "metadata": {},
   "source": [
    "We could also use a correlation matrix to get more specific information about the relationship between these two variables."
   ]
  },
  {
   "cell_type": "code",
   "execution_count": null,
   "id": "8406f58f-b825-4a15-8f6e-c68ca66bd483",
   "metadata": {},
   "outputs": [],
   "source": []
  },
  {
   "cell_type": "code",
   "execution_count": null,
   "id": "2d29ff66",
   "metadata": {},
   "outputs": [],
   "source": []
  },
  {
   "cell_type": "code",
   "execution_count": null,
   "id": "a883467d",
   "metadata": {},
   "outputs": [],
   "source": [
    "# Q1: # a. Which region in Saudi Arabia has the largest market for used cars?  \n",
    "\n",
    "region_counts = saudi_used_cars[\"Region\"].value_counts().reset_index().rename(columns={\"index\": \"Region\", \"Region\": \"Count\"})"
   ]
  },
  {
   "cell_type": "code",
   "execution_count": 484,
   "id": "46c72dbd",
   "metadata": {},
   "outputs": [
    {
     "data": {
      "text/html": [
       "\n",
       "        <iframe\n",
       "            width=\"100%\"\n",
       "            height=\"475\"\n",
       "            src=\"http://Emtnans-MacBook-Pro.local:40000/dtale/iframe/214\"\n",
       "            frameborder=\"0\"\n",
       "            allowfullscreen\n",
       "            \n",
       "        ></iframe>\n",
       "        "
      ],
      "text/plain": [
       "<IPython.lib.display.IFrame at 0x13c0d3130>"
      ]
     },
     "metadata": {},
     "output_type": "display_data"
    },
    {
     "data": {
      "text/plain": []
     },
     "execution_count": 484,
     "metadata": {},
     "output_type": "execute_result"
    }
   ],
   "source": [
    "dtale.show({\n",
    "    \"region in Saudi Arabia has the largest market for used cars?\": region_counts,})"
   ]
  },
  {
   "cell_type": "code",
   "execution_count": null,
   "id": "89341817",
   "metadata": {},
   "outputs": [],
   "source": [
    "#  b. During the specified period, which car brand was the most listed for sale?  \n",
    "#  c. Which features most significantly influence the price of a used car?  \n",
    "#  d. What is the price range for used cars that are approximately four years old?  \n"
   ]
  },
  {
   "cell_type": "code",
   "execution_count": null,
   "id": "869129fa",
   "metadata": {},
   "outputs": [],
   "source": [
    "# Q2: b. During the specified period, which car brand was the most listed for sale?  \n",
    "origin_counts = saudi_used_cars[\"Make\"].value_counts().reset_index().rename(columns={\"index\": \"Make\", \"Make\": \"Count\"})"
   ]
  },
  {
   "cell_type": "code",
   "execution_count": 485,
   "id": "c364e35e",
   "metadata": {},
   "outputs": [
    {
     "data": {
      "text/html": [
       "\n",
       "        <iframe\n",
       "            width=\"100%\"\n",
       "            height=\"475\"\n",
       "            src=\"http://Emtnans-MacBook-Pro.local:40000/dtale/iframe/215\"\n",
       "            frameborder=\"0\"\n",
       "            allowfullscreen\n",
       "            \n",
       "        ></iframe>\n",
       "        "
      ],
      "text/plain": [
       "<IPython.lib.display.IFrame at 0x13c1b1d60>"
      ]
     },
     "metadata": {},
     "output_type": "display_data"
    },
    {
     "data": {
      "text/plain": []
     },
     "execution_count": 485,
     "metadata": {},
     "output_type": "execute_result"
    }
   ],
   "source": [
    "dtale.show({\n",
    "    \"Car Brand\": origin_counts\n",
    "})\n"
   ]
  },
  {
   "cell_type": "code",
   "execution_count": null,
   "id": "8bd626d6",
   "metadata": {},
   "outputs": [
    {
     "data": {
      "text/html": [
       "\n",
       "        <iframe\n",
       "            width=\"100%\"\n",
       "            height=\"475\"\n",
       "            src=\"http://Emtnans-MacBook-Pro.local:40000/dtale/iframe/212\"\n",
       "            frameborder=\"0\"\n",
       "            allowfullscreen\n",
       "            \n",
       "        ></iframe>\n",
       "        "
      ],
      "text/plain": [
       "<IPython.lib.display.IFrame at 0x13c334970>"
      ]
     },
     "metadata": {},
     "output_type": "display_data"
    },
    {
     "data": {
      "text/plain": []
     },
     "execution_count": 482,
     "metadata": {},
     "output_type": "execute_result"
    }
   ],
   "source": [
    "# Q3: Count of cars by Origin\n",
    "dtale.show(saudi_used_cars)"
   ]
  },
  {
   "cell_type": "code",
   "execution_count": null,
   "id": "3654ed6e",
   "metadata": {},
   "outputs": [
    {
     "data": {
      "text/html": [
       "\n",
       "        <iframe\n",
       "            width=\"100%\"\n",
       "            height=\"475\"\n",
       "            src=\"http://Emtnans-MacBook-Pro.local:40000/dtale/iframe/208\"\n",
       "            frameborder=\"0\"\n",
       "            allowfullscreen\n",
       "            \n",
       "        ></iframe>\n",
       "        "
      ],
      "text/plain": [
       "<IPython.lib.display.IFrame at 0x13bfb7790>"
      ]
     },
     "metadata": {},
     "output_type": "display_data"
    },
    {
     "data": {
      "text/plain": []
     },
     "execution_count": 473,
     "metadata": {},
     "output_type": "execute_result"
    }
   ],
   "source": [
    "# Q4 : d. What is the price range for used cars that are approximately four years old?  \n",
    "price_min = four_year_old_cars['Price'].min()\n",
    "price_max = four_year_old_cars['Price'].max()\n",
    "price_mean = four_year_old_cars['Price'].mean()\n",
    "\n",
    "# Display results in a DataFrame for D-Tale\n",
    "price_stats_df = pd.DataFrame({\n",
    "    \"Metric\": [\"Min Price\", \"Max Price\", \"Average Price\"],\n",
    "    \"Value\": [price_min, price_max, price_mean]\n",
    "})\n",
    "\n",
    "# Launch D-Tale for interactive analysis\n",
    "dtale.show(price_stats_df)"
   ]
  },
  {
   "cell_type": "code",
   "execution_count": 511,
   "id": "07a2094b",
   "metadata": {},
   "outputs": [
    {
     "data": {
      "application/javascript": "if (window.IpyVizzu) { window.IpyVizzu.clearInhibitScroll(element); }"
     },
     "metadata": {},
     "output_type": "display_data"
    },
    {
     "data": {
      "application/javascript": "if (window.IpyVizzu?.version !== '0.17.0') {\n\tclass IpyVizzu {\n\t\tstatic version = '0.17.0'\n\t\tstatic analytics = undefined\n\t\tstatic inhibitScroll = false\n\n\t\tconstructor() {\n\t\t\tdocument.addEventListener(\n\t\t\t\t'wheel',\n\t\t\t\t(evt) => {\n\t\t\t\t\tIpyVizzu.inhibitScroll = true\n\t\t\t\t},\n\t\t\t\ttrue\n\t\t\t)\n\t\t\tdocument.addEventListener(\n\t\t\t\t'keydown',\n\t\t\t\t(evt) => {\n\t\t\t\t\tIpyVizzu.inhibitScroll = true\n\t\t\t\t},\n\t\t\t\ttrue\n\t\t\t)\n\t\t\tdocument.addEventListener(\n\t\t\t\t'touchstart',\n\t\t\t\t(evt) => {\n\t\t\t\t\tIpyVizzu.inhibitScroll = true\n\t\t\t\t},\n\t\t\t\ttrue\n\t\t\t)\n\n\t\t\tthis.elements = {}\n\t\t\tthis.charts = {}\n\t\t\tthis.controls = {}\n\n\t\t\tthis.storage = {}\n\t\t\tthis.displays = {}\n\n\t\t\tthis.events = {}\n\t\t\tthis.loaded = {}\n\t\t\tthis.libs = {}\n\t\t\tthis.plugins = {}\n\t\t}\n\n\t\tstatic clearInhibitScroll(element) {\n\t\t\tIpyVizzu.inhibitScroll = false\n\t\t}\n\n\t\tcreateChart(element, chartId, vizzulib, divWidth, divHeight) {\n\t\t\tthis.elements[chartId] = document.createElement('div')\n\t\t\tthis.elements[chartId].style.cssText = `width: ${divWidth}; height: ${divHeight};`\n\t\t\tthis.loaded[chartId] = import(vizzulib)\n\t\t\tthis.charts[chartId] = this.loaded[chartId].then((Vizzu) => {\n\t\t\t\tthis.libs[chartId] = Vizzu.default\n\t\t\t\tconst VizzuConstructor = Vizzu.default\n\t\t\t\treturn new VizzuConstructor(this.elements[chartId]).initializing\n\t\t\t})\n\t\t\tthis._moveHere(chartId, element)\n\t\t}\n\n\t\tplugin(element, chartId, plugin, options, name, enabled) {\n\t\t\tthis.charts[chartId] = this.charts[chartId].then((chart) => {\n\t\t\t\tif (!this.plugins[plugin]) {\n\t\t\t\t\tthis.plugins[plugin] = import(plugin).catch((error) => {\n\t\t\t\t\t\tconsole.error('Error importing plugin:', plugin, error)\n\t\t\t\t\t\treturn null\n\t\t\t\t\t})\n\t\t\t\t}\n\n\t\t\t\treturn this.plugins[plugin].then((pluginModule) => {\n\t\t\t\t\tif (pluginModule) {\n\t\t\t\t\t\tconst pluginInstance = new pluginModule[name](options)\n\t\t\t\t\t\tif (enabled) {\n\t\t\t\t\t\t\tchart.feature(pluginInstance, true)\n\t\t\t\t\t\t} else {\n\t\t\t\t\t\t\tchart.feature(pluginInstance.meta.name, false)\n\t\t\t\t\t\t}\n\t\t\t\t\t}\n\n\t\t\t\t\treturn chart\n\t\t\t\t})\n\t\t\t})\n\t\t}\n\n\t\tanimate(\n\t\t\telement,\n\t\t\tchartId,\n\t\t\tanimId,\n\t\t\tdisplayTarget,\n\t\t\tscrollEnabled,\n\t\t\tgetChartTarget,\n\t\t\tchartAnimOpts\n\t\t) {\n\t\t\tif (displayTarget === 'end') this._moveHere(chartId, element)\n\t\t\tthis.controls[chartId] = this.charts[chartId]\n\t\t\tthis.charts[chartId] = this.charts[chartId].then((chart) => {\n\t\t\t\tif (displayTarget === 'actual') this._moveHere(chartId, element)\n\t\t\t\tthis._scroll(chartId, scrollEnabled)\n\t\t\t\tlet chartTarget = getChartTarget(this.libs[chartId])\n\t\t\t\tif (typeof chartTarget === 'string') {\n\t\t\t\t\tchartTarget = this.storage[chartTarget]\n\t\t\t\t} else if (Array.isArray(chartTarget)) {\n\t\t\t\t\tfor (let i = 0; i < chartTarget.length; i++) {\n\t\t\t\t\t\tconst target = chartTarget[i].target\n\t\t\t\t\t\tif (typeof target === 'string') {\n\t\t\t\t\t\t\tchartTarget[i].target = this.storage[target]\n\t\t\t\t\t\t}\n\t\t\t\t\t}\n\t\t\t\t}\n\t\t\t\tchart = chart.animate(chartTarget, chartAnimOpts)\n\t\t\t\tthis.controls[animId] = chart\n\t\t\t\treturn chart\n\t\t\t})\n\t\t}\n\n\t\tstore(element, chartId, id) {\n\t\t\tthis.charts[chartId] = this.charts[chartId].then((chart) => {\n\t\t\t\tthis.storage[id] = chart.store()\n\t\t\t\treturn chart\n\t\t\t})\n\t\t}\n\n\t\tfeature(element, chartId, name, enabled) {\n\t\t\tthis.charts[chartId] = this.charts[chartId].then((chart) => {\n\t\t\t\tchart.feature(name, enabled)\n\t\t\t\treturn chart\n\t\t\t})\n\t\t}\n\n\t\tsetEvent(element, chartId, id, event, handler) {\n\t\t\tthis.charts[chartId] = this.charts[chartId].then((chart) => {\n\t\t\t\tthis.events[id] = handler\n\t\t\t\tchart.on(event, this.events[id])\n\t\t\t\treturn chart\n\t\t\t})\n\t\t}\n\n\t\tclearEvent(element, chartId, id, event) {\n\t\t\tthis.charts[chartId] = this.charts[chartId].then((chart) => {\n\t\t\t\tchart.off(event, this.events[id])\n\t\t\t\treturn chart\n\t\t\t})\n\t\t}\n\n\t\tlog(element, chartId, chartProperty) {\n\t\t\tthis.charts[chartId] = this.charts[chartId].then((chart) => {\n\t\t\t\tconsole.log(chart[chartProperty])\n\t\t\t\treturn chart\n\t\t\t})\n\t\t}\n\n\t\tcontrol(element, method, prevId, lastId, ...params) {\n\t\t\tthis.controls[prevId].then(() => {\n\t\t\t\tthis.controls[lastId].activated.then((control) => {\n\t\t\t\t\tif (method === 'seek') {\n\t\t\t\t\t\tconst value = params[0]\n\t\t\t\t\t\tcontrol[method](value)\n\t\t\t\t\t\treturn\n\t\t\t\t\t}\n\t\t\t\t\tif (method === 'store') {\n\t\t\t\t\t\tconst id = params[0]\n\t\t\t\t\t\tthis.storage[id] = control[method]()\n\t\t\t\t\t\treturn\n\t\t\t\t\t}\n\t\t\t\t\tcontrol[method]()\n\t\t\t\t})\n\t\t\t})\n\t\t}\n\n\t\t_moveHere(chartId, element) {\n\t\t\telement.append(this.elements[chartId])\n\t\t}\n\n\t\t_scroll(chartId, enabled) {\n\t\t\tif (!IpyVizzu.inhibitScroll && enabled) {\n\t\t\t\tthis.elements[chartId].scrollIntoView({\n\t\t\t\t\tbehavior: 'auto',\n\t\t\t\t\tblock: 'center'\n\t\t\t\t})\n\t\t\t}\n\t\t}\n\n\t\tstatic _hide(element) {\n\t\t\tdocument.getElementById(element.selector.substring(1)).parentNode.style.display = 'none'\n\t\t}\n\n\t\tstatic _display(prevElement, element) {\n\t\t\tif (prevElement.parentNode) {\n\t\t\t\tprevElement.parentNode.style.display = 'none'\n\t\t\t}\n\t\t\tdocument.getElementById(element.selector.substring(1)).parentNode.style.display = 'flex'\n\t\t\tdocument.getElementById(element.selector.substring(1)).parentNode.style.margin = 'auto'\n\t\t}\n\n\t\tstatic changeAnalyticsTo(analytics) {\n\t\t\tif (IpyVizzu.analytics !== analytics) {\n\t\t\t\tconsole.log('ipyvizzu gather usage stats:', analytics)\n\t\t\t\tIpyVizzu.analytics = analytics\n\t\t\t}\n\t\t\tif (analytics) {\n\t\t\t\tIpyVizzu._addHeadScript()\n\t\t\t} else {\n\t\t\t\tIpyVizzu._removeScript('ipyvizzu-analytics-head')\n\t\t\t}\n\t\t}\n\n\t\tstatic _addHeadScript() {\n\t\t\tconst scriptId = 'ipyvizzu-analytics-head'\n\t\t\tif (!IpyVizzu._isScriptAppended(scriptId)) {\n\t\t\t\tconst script = document.createElement('script')\n\t\t\t\tscript.defer = true\n\t\t\t\tscript.src = 'https://plausible.io/js/script.local.js'\n\t\t\t\tscript.dataset.domain = 'usage.ipyvizzu.com'\n\t\t\t\tscript.id = scriptId\n\t\t\t\tdocument.getElementsByTagName('head')[0].appendChild(script)\n\t\t\t}\n\t\t}\n\n\t\tstatic _isScriptAppended(id) {\n\t\t\treturn document.querySelector(`script[id=\"${id}\"]`) !== null\n\t\t}\n\n\t\tstatic _removeScript(id) {\n\t\t\tconst script = document.getElementById(id)\n\t\t\tif (script) script.remove()\n\t\t}\n\t}\n\n\twindow.IpyVizzu = IpyVizzu\n\tconsole.log(`ipyvizzu ${IpyVizzu.version}`)\n\twindow.ipyvizzu = new window.IpyVizzu()\n}\n"
     },
     "metadata": {},
     "output_type": "display_data"
    },
    {
     "data": {
      "application/javascript": "if (window.IpyVizzu) window.IpyVizzu.changeAnalyticsTo(true);"
     },
     "metadata": {},
     "output_type": "display_data"
    },
    {
     "data": {
      "application/javascript": "window.ipyvizzu.createChart(element, 'a6ad474', 'https://cdn.jsdelivr.net/npm/vizzu@0.9/dist/vizzu.min.js', '900px', '600px');"
     },
     "metadata": {},
     "output_type": "display_data"
    },
    {
     "data": {
      "application/javascript": "window.ipyvizzu.animate(element, 'a6ad474', '9e266a0', 'actual', false, lib => { return {\"data\": {\"series\": [{\"name\": \"Region\", \"values\": [\"Riyadh\", \"Dammam\", \"Jeddah\", \"Qassim\", \"Al-Medina\", \"Al-Ahsa\", \"Aseer\", \"Makkah\", \"Taef\", \"Tabouk\", \"Khobar\", \"Abha\", \"Jazan\", \"Hail\", \"Jubail\", \"Najran\", \"Hafar Al-Batin\", \"Al-Baha\", \"Yanbu\", \"Al-Jouf\", \"Arar\", \"Besha\", \"Qurayyat\", \"Al-Namas\", \"Wadi Dawasir\", \"Sakaka\", \"Sabya\"]}, {\"name\": \"Count\", \"values\": [2269, 924, 732, 225, 214, 166, 163, 153, 103, 97, 76, 64, 60, 58, 55, 42, 39, 35, 27, 27, 22, 16, 13, 12, 12, 10, 4]}]}} }, undefined);"
     },
     "metadata": {},
     "output_type": "display_data"
    },
    {
     "data": {
      "application/javascript": "window.ipyvizzu.animate(element, 'a6ad474', '1648113', 'actual', false, lib => { return {\"config\": {\"y\": \"Region\", \"x\": \"Count\", \"geometry\": \"rectangle\", \"title\": \"Used Car Market by Region\"}} }, undefined);"
     },
     "metadata": {},
     "output_type": "display_data"
    },
    {
     "ename": "AssertionError",
     "evalue": "chart._repr_html_() can be used with display=DisplayTarget.MANUAL only",
     "output_type": "error",
     "traceback": [
      "\u001b[0;31m---------------------------------------------------------------------------\u001b[0m",
      "\u001b[0;31mAssertionError\u001b[0m                            Traceback (most recent call last)",
      "File \u001b[0;32m~/Library/Python/3.9/lib/python/site-packages/IPython/core/formatters.py:344\u001b[0m, in \u001b[0;36mBaseFormatter.__call__\u001b[0;34m(self, obj)\u001b[0m\n\u001b[1;32m    342\u001b[0m     method \u001b[38;5;241m=\u001b[39m get_real_method(obj, \u001b[38;5;28mself\u001b[39m\u001b[38;5;241m.\u001b[39mprint_method)\n\u001b[1;32m    343\u001b[0m     \u001b[38;5;28;01mif\u001b[39;00m method \u001b[38;5;129;01mis\u001b[39;00m \u001b[38;5;129;01mnot\u001b[39;00m \u001b[38;5;28;01mNone\u001b[39;00m:\n\u001b[0;32m--> 344\u001b[0m         \u001b[38;5;28;01mreturn\u001b[39;00m \u001b[43mmethod\u001b[49m\u001b[43m(\u001b[49m\u001b[43m)\u001b[49m\n\u001b[1;32m    345\u001b[0m     \u001b[38;5;28;01mreturn\u001b[39;00m \u001b[38;5;28;01mNone\u001b[39;00m\n\u001b[1;32m    346\u001b[0m \u001b[38;5;28;01melse\u001b[39;00m:\n",
      "File \u001b[0;32m~/Library/Python/3.9/lib/python/site-packages/ipyvizzu/chart.py:355\u001b[0m, in \u001b[0;36mChart._repr_html_\u001b[0;34m(self)\u001b[0m\n\u001b[1;32m    354\u001b[0m \u001b[38;5;28;01mdef\u001b[39;00m\u001b[38;5;250m \u001b[39m\u001b[38;5;21m_repr_html_\u001b[39m(\u001b[38;5;28mself\u001b[39m) \u001b[38;5;241m-\u001b[39m\u001b[38;5;241m>\u001b[39m \u001b[38;5;28mstr\u001b[39m:\n\u001b[0;32m--> 355\u001b[0m     \u001b[38;5;28;01massert\u001b[39;00m (\n\u001b[1;32m    356\u001b[0m         \u001b[38;5;28mself\u001b[39m\u001b[38;5;241m.\u001b[39m_display_target \u001b[38;5;241m==\u001b[39m DisplayTarget\u001b[38;5;241m.\u001b[39mMANUAL\n\u001b[1;32m    357\u001b[0m     ), \u001b[38;5;124m\"\u001b[39m\u001b[38;5;124mchart._repr_html_() can be used with display=DisplayTarget.MANUAL only\u001b[39m\u001b[38;5;124m\"\u001b[39m\n\u001b[1;32m    358\u001b[0m     \u001b[38;5;28;01massert\u001b[39;00m \u001b[38;5;129;01mnot\u001b[39;00m \u001b[38;5;28mself\u001b[39m\u001b[38;5;241m.\u001b[39m_showed, \u001b[38;5;124m\"\u001b[39m\u001b[38;5;124mcannot be used after chart displayed.\u001b[39m\u001b[38;5;124m\"\u001b[39m\n\u001b[1;32m    359\u001b[0m     \u001b[38;5;28mself\u001b[39m\u001b[38;5;241m.\u001b[39m_showed \u001b[38;5;241m=\u001b[39m \u001b[38;5;28;01mTrue\u001b[39;00m\n",
      "\u001b[0;31mAssertionError\u001b[0m: chart._repr_html_() can be used with display=DisplayTarget.MANUAL only"
     ]
    },
    {
     "data": {
      "text/plain": [
       "<ipyvizzu.chart.Chart at 0x13ceabaf0>"
      ]
     },
     "execution_count": 511,
     "metadata": {},
     "output_type": "execute_result"
    }
   ],
   "source": [
    "import pandas as pd\n",
    "import ipyvizzu\n",
    "\n",
    "# Ensure the column exists\n",
    "if \"Region\" in saudi_used_cars.columns:\n",
    "    region_counts = saudi_used_cars[\"Region\"].value_counts().reset_index()\n",
    "    region_counts.columns = [\"Region\", \"Count\"]  # Rename correctly\n",
    "else:\n",
    "    raise ValueError(\"Error: 'Region' column not found in the dataset.\")\n",
    "\n",
    "# Sort for better visualization\n",
    "region_counts = region_counts.sort_values(by=\"Count\", ascending=False)\n",
    "\n",
    "# Create the ipyvizzu chart\n",
    "chart = ipyvizzu.Chart(width=\"900px\", height=\"600px\")  # Increase chart size\n",
    "\n",
    "# Load the data correctly\n",
    "data = ipyvizzu.Data()\n",
    "data.add_series(\"Region\", region_counts[\"Region\"].astype(str).tolist())\n",
    "data.add_series(\"Count\", region_counts[\"Count\"].astype(int).tolist())\n",
    "\n",
    "chart.animate(data)\n",
    "\n",
    "# Use horizontal bars for better readability\n",
    "chart.animate(ipyvizzu.Config({\n",
    "    \"y\": \"Region\",  # Flip axes\n",
    "    \"x\": \"Count\",\n",
    "    \"geometry\": \"rectangle\",\n",
    "    \"title\": \"Used Car Market by Region\"\n",
    "}))\n",
    "\n",
    "# Display the chart\n",
    "chart\n"
   ]
  },
  {
   "cell_type": "code",
   "execution_count": 513,
   "id": "316c2f2b",
   "metadata": {},
   "outputs": [
    {
     "data": {
      "application/javascript": "if (window.IpyVizzu) { window.IpyVizzu.clearInhibitScroll(element); }"
     },
     "metadata": {},
     "output_type": "display_data"
    },
    {
     "data": {
      "application/javascript": "if (window.IpyVizzu?.version !== '0.17.0') {\n\tclass IpyVizzu {\n\t\tstatic version = '0.17.0'\n\t\tstatic analytics = undefined\n\t\tstatic inhibitScroll = false\n\n\t\tconstructor() {\n\t\t\tdocument.addEventListener(\n\t\t\t\t'wheel',\n\t\t\t\t(evt) => {\n\t\t\t\t\tIpyVizzu.inhibitScroll = true\n\t\t\t\t},\n\t\t\t\ttrue\n\t\t\t)\n\t\t\tdocument.addEventListener(\n\t\t\t\t'keydown',\n\t\t\t\t(evt) => {\n\t\t\t\t\tIpyVizzu.inhibitScroll = true\n\t\t\t\t},\n\t\t\t\ttrue\n\t\t\t)\n\t\t\tdocument.addEventListener(\n\t\t\t\t'touchstart',\n\t\t\t\t(evt) => {\n\t\t\t\t\tIpyVizzu.inhibitScroll = true\n\t\t\t\t},\n\t\t\t\ttrue\n\t\t\t)\n\n\t\t\tthis.elements = {}\n\t\t\tthis.charts = {}\n\t\t\tthis.controls = {}\n\n\t\t\tthis.storage = {}\n\t\t\tthis.displays = {}\n\n\t\t\tthis.events = {}\n\t\t\tthis.loaded = {}\n\t\t\tthis.libs = {}\n\t\t\tthis.plugins = {}\n\t\t}\n\n\t\tstatic clearInhibitScroll(element) {\n\t\t\tIpyVizzu.inhibitScroll = false\n\t\t}\n\n\t\tcreateChart(element, chartId, vizzulib, divWidth, divHeight) {\n\t\t\tthis.elements[chartId] = document.createElement('div')\n\t\t\tthis.elements[chartId].style.cssText = `width: ${divWidth}; height: ${divHeight};`\n\t\t\tthis.loaded[chartId] = import(vizzulib)\n\t\t\tthis.charts[chartId] = this.loaded[chartId].then((Vizzu) => {\n\t\t\t\tthis.libs[chartId] = Vizzu.default\n\t\t\t\tconst VizzuConstructor = Vizzu.default\n\t\t\t\treturn new VizzuConstructor(this.elements[chartId]).initializing\n\t\t\t})\n\t\t\tthis._moveHere(chartId, element)\n\t\t}\n\n\t\tplugin(element, chartId, plugin, options, name, enabled) {\n\t\t\tthis.charts[chartId] = this.charts[chartId].then((chart) => {\n\t\t\t\tif (!this.plugins[plugin]) {\n\t\t\t\t\tthis.plugins[plugin] = import(plugin).catch((error) => {\n\t\t\t\t\t\tconsole.error('Error importing plugin:', plugin, error)\n\t\t\t\t\t\treturn null\n\t\t\t\t\t})\n\t\t\t\t}\n\n\t\t\t\treturn this.plugins[plugin].then((pluginModule) => {\n\t\t\t\t\tif (pluginModule) {\n\t\t\t\t\t\tconst pluginInstance = new pluginModule[name](options)\n\t\t\t\t\t\tif (enabled) {\n\t\t\t\t\t\t\tchart.feature(pluginInstance, true)\n\t\t\t\t\t\t} else {\n\t\t\t\t\t\t\tchart.feature(pluginInstance.meta.name, false)\n\t\t\t\t\t\t}\n\t\t\t\t\t}\n\n\t\t\t\t\treturn chart\n\t\t\t\t})\n\t\t\t})\n\t\t}\n\n\t\tanimate(\n\t\t\telement,\n\t\t\tchartId,\n\t\t\tanimId,\n\t\t\tdisplayTarget,\n\t\t\tscrollEnabled,\n\t\t\tgetChartTarget,\n\t\t\tchartAnimOpts\n\t\t) {\n\t\t\tif (displayTarget === 'end') this._moveHere(chartId, element)\n\t\t\tthis.controls[chartId] = this.charts[chartId]\n\t\t\tthis.charts[chartId] = this.charts[chartId].then((chart) => {\n\t\t\t\tif (displayTarget === 'actual') this._moveHere(chartId, element)\n\t\t\t\tthis._scroll(chartId, scrollEnabled)\n\t\t\t\tlet chartTarget = getChartTarget(this.libs[chartId])\n\t\t\t\tif (typeof chartTarget === 'string') {\n\t\t\t\t\tchartTarget = this.storage[chartTarget]\n\t\t\t\t} else if (Array.isArray(chartTarget)) {\n\t\t\t\t\tfor (let i = 0; i < chartTarget.length; i++) {\n\t\t\t\t\t\tconst target = chartTarget[i].target\n\t\t\t\t\t\tif (typeof target === 'string') {\n\t\t\t\t\t\t\tchartTarget[i].target = this.storage[target]\n\t\t\t\t\t\t}\n\t\t\t\t\t}\n\t\t\t\t}\n\t\t\t\tchart = chart.animate(chartTarget, chartAnimOpts)\n\t\t\t\tthis.controls[animId] = chart\n\t\t\t\treturn chart\n\t\t\t})\n\t\t}\n\n\t\tstore(element, chartId, id) {\n\t\t\tthis.charts[chartId] = this.charts[chartId].then((chart) => {\n\t\t\t\tthis.storage[id] = chart.store()\n\t\t\t\treturn chart\n\t\t\t})\n\t\t}\n\n\t\tfeature(element, chartId, name, enabled) {\n\t\t\tthis.charts[chartId] = this.charts[chartId].then((chart) => {\n\t\t\t\tchart.feature(name, enabled)\n\t\t\t\treturn chart\n\t\t\t})\n\t\t}\n\n\t\tsetEvent(element, chartId, id, event, handler) {\n\t\t\tthis.charts[chartId] = this.charts[chartId].then((chart) => {\n\t\t\t\tthis.events[id] = handler\n\t\t\t\tchart.on(event, this.events[id])\n\t\t\t\treturn chart\n\t\t\t})\n\t\t}\n\n\t\tclearEvent(element, chartId, id, event) {\n\t\t\tthis.charts[chartId] = this.charts[chartId].then((chart) => {\n\t\t\t\tchart.off(event, this.events[id])\n\t\t\t\treturn chart\n\t\t\t})\n\t\t}\n\n\t\tlog(element, chartId, chartProperty) {\n\t\t\tthis.charts[chartId] = this.charts[chartId].then((chart) => {\n\t\t\t\tconsole.log(chart[chartProperty])\n\t\t\t\treturn chart\n\t\t\t})\n\t\t}\n\n\t\tcontrol(element, method, prevId, lastId, ...params) {\n\t\t\tthis.controls[prevId].then(() => {\n\t\t\t\tthis.controls[lastId].activated.then((control) => {\n\t\t\t\t\tif (method === 'seek') {\n\t\t\t\t\t\tconst value = params[0]\n\t\t\t\t\t\tcontrol[method](value)\n\t\t\t\t\t\treturn\n\t\t\t\t\t}\n\t\t\t\t\tif (method === 'store') {\n\t\t\t\t\t\tconst id = params[0]\n\t\t\t\t\t\tthis.storage[id] = control[method]()\n\t\t\t\t\t\treturn\n\t\t\t\t\t}\n\t\t\t\t\tcontrol[method]()\n\t\t\t\t})\n\t\t\t})\n\t\t}\n\n\t\t_moveHere(chartId, element) {\n\t\t\telement.append(this.elements[chartId])\n\t\t}\n\n\t\t_scroll(chartId, enabled) {\n\t\t\tif (!IpyVizzu.inhibitScroll && enabled) {\n\t\t\t\tthis.elements[chartId].scrollIntoView({\n\t\t\t\t\tbehavior: 'auto',\n\t\t\t\t\tblock: 'center'\n\t\t\t\t})\n\t\t\t}\n\t\t}\n\n\t\tstatic _hide(element) {\n\t\t\tdocument.getElementById(element.selector.substring(1)).parentNode.style.display = 'none'\n\t\t}\n\n\t\tstatic _display(prevElement, element) {\n\t\t\tif (prevElement.parentNode) {\n\t\t\t\tprevElement.parentNode.style.display = 'none'\n\t\t\t}\n\t\t\tdocument.getElementById(element.selector.substring(1)).parentNode.style.display = 'flex'\n\t\t\tdocument.getElementById(element.selector.substring(1)).parentNode.style.margin = 'auto'\n\t\t}\n\n\t\tstatic changeAnalyticsTo(analytics) {\n\t\t\tif (IpyVizzu.analytics !== analytics) {\n\t\t\t\tconsole.log('ipyvizzu gather usage stats:', analytics)\n\t\t\t\tIpyVizzu.analytics = analytics\n\t\t\t}\n\t\t\tif (analytics) {\n\t\t\t\tIpyVizzu._addHeadScript()\n\t\t\t} else {\n\t\t\t\tIpyVizzu._removeScript('ipyvizzu-analytics-head')\n\t\t\t}\n\t\t}\n\n\t\tstatic _addHeadScript() {\n\t\t\tconst scriptId = 'ipyvizzu-analytics-head'\n\t\t\tif (!IpyVizzu._isScriptAppended(scriptId)) {\n\t\t\t\tconst script = document.createElement('script')\n\t\t\t\tscript.defer = true\n\t\t\t\tscript.src = 'https://plausible.io/js/script.local.js'\n\t\t\t\tscript.dataset.domain = 'usage.ipyvizzu.com'\n\t\t\t\tscript.id = scriptId\n\t\t\t\tdocument.getElementsByTagName('head')[0].appendChild(script)\n\t\t\t}\n\t\t}\n\n\t\tstatic _isScriptAppended(id) {\n\t\t\treturn document.querySelector(`script[id=\"${id}\"]`) !== null\n\t\t}\n\n\t\tstatic _removeScript(id) {\n\t\t\tconst script = document.getElementById(id)\n\t\t\tif (script) script.remove()\n\t\t}\n\t}\n\n\twindow.IpyVizzu = IpyVizzu\n\tconsole.log(`ipyvizzu ${IpyVizzu.version}`)\n\twindow.ipyvizzu = new window.IpyVizzu()\n}\n"
     },
     "metadata": {},
     "output_type": "display_data"
    },
    {
     "data": {
      "application/javascript": "if (window.IpyVizzu) window.IpyVizzu.changeAnalyticsTo(true);"
     },
     "metadata": {},
     "output_type": "display_data"
    },
    {
     "data": {
      "application/javascript": "window.ipyvizzu.createChart(element, '9aa6874', 'https://cdn.jsdelivr.net/npm/vizzu@0.9/dist/vizzu.min.js', '900px', '800px');"
     },
     "metadata": {},
     "output_type": "display_data"
    },
    {
     "data": {
      "application/javascript": "window.ipyvizzu.animate(element, '9aa6874', '27990a9', 'actual', false, lib => { return {\"data\": {\"series\": [{\"name\": \"Make\", \"values\": [\"Toyota\", \"Hyundai\", \"Ford\", \"Chevrolet\", \"Nissan\", \"GMC\", \"Kia\", \"Mercedes\", \"Lexus\", \"Mazda\", \"Honda\", \"BMW\", \"Dodge\", \"Mitsubishi\", \"Land Rover\", \"Jeep\", \"Chrysler\", \"Audi\", \"Changan\", \"Renault\"]}, {\"name\": \"Count\", \"values\": [1429, 668, 530, 458, 387, 281, 250, 226, 222, 129, 115, 97, 95, 94, 79, 56, 50, 38, 36, 35]}]}} }, undefined);"
     },
     "metadata": {},
     "output_type": "display_data"
    },
    {
     "data": {
      "application/javascript": "window.ipyvizzu.animate(element, '9aa6874', '286bde0', 'actual', false, lib => { return {\"config\": {\"y\": \"Make\", \"x\": \"Count\", \"geometry\": \"rectangle\", \"title\": \"Most Listed Car Brands for Sale\"}} }, undefined);"
     },
     "metadata": {},
     "output_type": "display_data"
    },
    {
     "data": {
      "application/javascript": "window.ipyvizzu.animate(element, '9aa6874', 'baa9526', 'actual', false, lib => { return {\"style\": {\"label\": {\"fontSize\": \"12px\"}, \"plot\": {\"marker\": {\"barWidth\": \"0.8\"}}}} }, undefined);"
     },
     "metadata": {},
     "output_type": "display_data"
    },
    {
     "ename": "AssertionError",
     "evalue": "chart._repr_html_() can be used with display=DisplayTarget.MANUAL only",
     "output_type": "error",
     "traceback": [
      "\u001b[0;31m---------------------------------------------------------------------------\u001b[0m",
      "\u001b[0;31mAssertionError\u001b[0m                            Traceback (most recent call last)",
      "File \u001b[0;32m~/Library/Python/3.9/lib/python/site-packages/IPython/core/formatters.py:344\u001b[0m, in \u001b[0;36mBaseFormatter.__call__\u001b[0;34m(self, obj)\u001b[0m\n\u001b[1;32m    342\u001b[0m     method \u001b[38;5;241m=\u001b[39m get_real_method(obj, \u001b[38;5;28mself\u001b[39m\u001b[38;5;241m.\u001b[39mprint_method)\n\u001b[1;32m    343\u001b[0m     \u001b[38;5;28;01mif\u001b[39;00m method \u001b[38;5;129;01mis\u001b[39;00m \u001b[38;5;129;01mnot\u001b[39;00m \u001b[38;5;28;01mNone\u001b[39;00m:\n\u001b[0;32m--> 344\u001b[0m         \u001b[38;5;28;01mreturn\u001b[39;00m \u001b[43mmethod\u001b[49m\u001b[43m(\u001b[49m\u001b[43m)\u001b[49m\n\u001b[1;32m    345\u001b[0m     \u001b[38;5;28;01mreturn\u001b[39;00m \u001b[38;5;28;01mNone\u001b[39;00m\n\u001b[1;32m    346\u001b[0m \u001b[38;5;28;01melse\u001b[39;00m:\n",
      "File \u001b[0;32m~/Library/Python/3.9/lib/python/site-packages/ipyvizzu/chart.py:355\u001b[0m, in \u001b[0;36mChart._repr_html_\u001b[0;34m(self)\u001b[0m\n\u001b[1;32m    354\u001b[0m \u001b[38;5;28;01mdef\u001b[39;00m\u001b[38;5;250m \u001b[39m\u001b[38;5;21m_repr_html_\u001b[39m(\u001b[38;5;28mself\u001b[39m) \u001b[38;5;241m-\u001b[39m\u001b[38;5;241m>\u001b[39m \u001b[38;5;28mstr\u001b[39m:\n\u001b[0;32m--> 355\u001b[0m     \u001b[38;5;28;01massert\u001b[39;00m (\n\u001b[1;32m    356\u001b[0m         \u001b[38;5;28mself\u001b[39m\u001b[38;5;241m.\u001b[39m_display_target \u001b[38;5;241m==\u001b[39m DisplayTarget\u001b[38;5;241m.\u001b[39mMANUAL\n\u001b[1;32m    357\u001b[0m     ), \u001b[38;5;124m\"\u001b[39m\u001b[38;5;124mchart._repr_html_() can be used with display=DisplayTarget.MANUAL only\u001b[39m\u001b[38;5;124m\"\u001b[39m\n\u001b[1;32m    358\u001b[0m     \u001b[38;5;28;01massert\u001b[39;00m \u001b[38;5;129;01mnot\u001b[39;00m \u001b[38;5;28mself\u001b[39m\u001b[38;5;241m.\u001b[39m_showed, \u001b[38;5;124m\"\u001b[39m\u001b[38;5;124mcannot be used after chart displayed.\u001b[39m\u001b[38;5;124m\"\u001b[39m\n\u001b[1;32m    359\u001b[0m     \u001b[38;5;28mself\u001b[39m\u001b[38;5;241m.\u001b[39m_showed \u001b[38;5;241m=\u001b[39m \u001b[38;5;28;01mTrue\u001b[39;00m\n",
      "\u001b[0;31mAssertionError\u001b[0m: chart._repr_html_() can be used with display=DisplayTarget.MANUAL only"
     ]
    },
    {
     "data": {
      "text/plain": [
       "<ipyvizzu.chart.Chart at 0x13f9e1880>"
      ]
     },
     "execution_count": 513,
     "metadata": {},
     "output_type": "execute_result"
    }
   ],
   "source": [
    "import pandas as pd\n",
    "import ipyvizzu\n",
    "\n",
    "# Ensure the column exists\n",
    "if \"Make\" in saudi_used_cars.columns:\n",
    "    origin_counts = saudi_used_cars[\"Make\"].value_counts().reset_index()\n",
    "    origin_counts.columns = [\"Make\", \"Count\"]  # Correct renaming\n",
    "else:\n",
    "    raise ValueError(\"Error: 'Make' column not found in the dataset.\")\n",
    "\n",
    "# Sort brands by count\n",
    "origin_counts = origin_counts.sort_values(by=\"Count\", ascending=False)\n",
    "\n",
    "# Show only the top 20 brands\n",
    "top_n = 20\n",
    "origin_counts = origin_counts.head(top_n)\n",
    "\n",
    "# Create the ipyvizzu chart\n",
    "chart = ipyvizzu.Chart(width=\"900px\", height=\"800px\")  # Increase height for readability\n",
    "\n",
    "# Load the data correctly\n",
    "data = ipyvizzu.Data()\n",
    "data.add_series(\"Make\", origin_counts[\"Make\"].astype(str).tolist())\n",
    "data.add_series(\"Count\", origin_counts[\"Count\"].astype(int).tolist())\n",
    "\n",
    "chart.animate(data)\n",
    "\n",
    "# Use a horizontal bar chart for better readability\n",
    "chart.animate(ipyvizzu.Config({\n",
    "    \"y\": \"Make\",  # Flip axes\n",
    "    \"x\": \"Count\",\n",
    "    \"geometry\": \"rectangle\",\n",
    "    \"title\": \"Most Listed Car Brands for Sale\"\n",
    "}))\n",
    "\n",
    "# Improve visualization settings\n",
    "chart.animate(ipyvizzu.Style({\n",
    "    \"label\": {\"fontSize\": \"12px\"},  # Adjust label size\n",
    "    \"plot\": {\"marker\": {\"barWidth\": \"0.8\"}}  # Adjust bar width\n",
    "}))\n",
    "\n",
    "# Display the chart\n",
    "chart\n"
   ]
  },
  {
   "cell_type": "code",
   "execution_count": 514,
   "id": "8f9f0eab",
   "metadata": {},
   "outputs": [
    {
     "data": {
      "application/javascript": "if (window.IpyVizzu) { window.IpyVizzu.clearInhibitScroll(element); }"
     },
     "metadata": {},
     "output_type": "display_data"
    },
    {
     "data": {
      "application/javascript": "if (window.IpyVizzu?.version !== '0.17.0') {\n\tclass IpyVizzu {\n\t\tstatic version = '0.17.0'\n\t\tstatic analytics = undefined\n\t\tstatic inhibitScroll = false\n\n\t\tconstructor() {\n\t\t\tdocument.addEventListener(\n\t\t\t\t'wheel',\n\t\t\t\t(evt) => {\n\t\t\t\t\tIpyVizzu.inhibitScroll = true\n\t\t\t\t},\n\t\t\t\ttrue\n\t\t\t)\n\t\t\tdocument.addEventListener(\n\t\t\t\t'keydown',\n\t\t\t\t(evt) => {\n\t\t\t\t\tIpyVizzu.inhibitScroll = true\n\t\t\t\t},\n\t\t\t\ttrue\n\t\t\t)\n\t\t\tdocument.addEventListener(\n\t\t\t\t'touchstart',\n\t\t\t\t(evt) => {\n\t\t\t\t\tIpyVizzu.inhibitScroll = true\n\t\t\t\t},\n\t\t\t\ttrue\n\t\t\t)\n\n\t\t\tthis.elements = {}\n\t\t\tthis.charts = {}\n\t\t\tthis.controls = {}\n\n\t\t\tthis.storage = {}\n\t\t\tthis.displays = {}\n\n\t\t\tthis.events = {}\n\t\t\tthis.loaded = {}\n\t\t\tthis.libs = {}\n\t\t\tthis.plugins = {}\n\t\t}\n\n\t\tstatic clearInhibitScroll(element) {\n\t\t\tIpyVizzu.inhibitScroll = false\n\t\t}\n\n\t\tcreateChart(element, chartId, vizzulib, divWidth, divHeight) {\n\t\t\tthis.elements[chartId] = document.createElement('div')\n\t\t\tthis.elements[chartId].style.cssText = `width: ${divWidth}; height: ${divHeight};`\n\t\t\tthis.loaded[chartId] = import(vizzulib)\n\t\t\tthis.charts[chartId] = this.loaded[chartId].then((Vizzu) => {\n\t\t\t\tthis.libs[chartId] = Vizzu.default\n\t\t\t\tconst VizzuConstructor = Vizzu.default\n\t\t\t\treturn new VizzuConstructor(this.elements[chartId]).initializing\n\t\t\t})\n\t\t\tthis._moveHere(chartId, element)\n\t\t}\n\n\t\tplugin(element, chartId, plugin, options, name, enabled) {\n\t\t\tthis.charts[chartId] = this.charts[chartId].then((chart) => {\n\t\t\t\tif (!this.plugins[plugin]) {\n\t\t\t\t\tthis.plugins[plugin] = import(plugin).catch((error) => {\n\t\t\t\t\t\tconsole.error('Error importing plugin:', plugin, error)\n\t\t\t\t\t\treturn null\n\t\t\t\t\t})\n\t\t\t\t}\n\n\t\t\t\treturn this.plugins[plugin].then((pluginModule) => {\n\t\t\t\t\tif (pluginModule) {\n\t\t\t\t\t\tconst pluginInstance = new pluginModule[name](options)\n\t\t\t\t\t\tif (enabled) {\n\t\t\t\t\t\t\tchart.feature(pluginInstance, true)\n\t\t\t\t\t\t} else {\n\t\t\t\t\t\t\tchart.feature(pluginInstance.meta.name, false)\n\t\t\t\t\t\t}\n\t\t\t\t\t}\n\n\t\t\t\t\treturn chart\n\t\t\t\t})\n\t\t\t})\n\t\t}\n\n\t\tanimate(\n\t\t\telement,\n\t\t\tchartId,\n\t\t\tanimId,\n\t\t\tdisplayTarget,\n\t\t\tscrollEnabled,\n\t\t\tgetChartTarget,\n\t\t\tchartAnimOpts\n\t\t) {\n\t\t\tif (displayTarget === 'end') this._moveHere(chartId, element)\n\t\t\tthis.controls[chartId] = this.charts[chartId]\n\t\t\tthis.charts[chartId] = this.charts[chartId].then((chart) => {\n\t\t\t\tif (displayTarget === 'actual') this._moveHere(chartId, element)\n\t\t\t\tthis._scroll(chartId, scrollEnabled)\n\t\t\t\tlet chartTarget = getChartTarget(this.libs[chartId])\n\t\t\t\tif (typeof chartTarget === 'string') {\n\t\t\t\t\tchartTarget = this.storage[chartTarget]\n\t\t\t\t} else if (Array.isArray(chartTarget)) {\n\t\t\t\t\tfor (let i = 0; i < chartTarget.length; i++) {\n\t\t\t\t\t\tconst target = chartTarget[i].target\n\t\t\t\t\t\tif (typeof target === 'string') {\n\t\t\t\t\t\t\tchartTarget[i].target = this.storage[target]\n\t\t\t\t\t\t}\n\t\t\t\t\t}\n\t\t\t\t}\n\t\t\t\tchart = chart.animate(chartTarget, chartAnimOpts)\n\t\t\t\tthis.controls[animId] = chart\n\t\t\t\treturn chart\n\t\t\t})\n\t\t}\n\n\t\tstore(element, chartId, id) {\n\t\t\tthis.charts[chartId] = this.charts[chartId].then((chart) => {\n\t\t\t\tthis.storage[id] = chart.store()\n\t\t\t\treturn chart\n\t\t\t})\n\t\t}\n\n\t\tfeature(element, chartId, name, enabled) {\n\t\t\tthis.charts[chartId] = this.charts[chartId].then((chart) => {\n\t\t\t\tchart.feature(name, enabled)\n\t\t\t\treturn chart\n\t\t\t})\n\t\t}\n\n\t\tsetEvent(element, chartId, id, event, handler) {\n\t\t\tthis.charts[chartId] = this.charts[chartId].then((chart) => {\n\t\t\t\tthis.events[id] = handler\n\t\t\t\tchart.on(event, this.events[id])\n\t\t\t\treturn chart\n\t\t\t})\n\t\t}\n\n\t\tclearEvent(element, chartId, id, event) {\n\t\t\tthis.charts[chartId] = this.charts[chartId].then((chart) => {\n\t\t\t\tchart.off(event, this.events[id])\n\t\t\t\treturn chart\n\t\t\t})\n\t\t}\n\n\t\tlog(element, chartId, chartProperty) {\n\t\t\tthis.charts[chartId] = this.charts[chartId].then((chart) => {\n\t\t\t\tconsole.log(chart[chartProperty])\n\t\t\t\treturn chart\n\t\t\t})\n\t\t}\n\n\t\tcontrol(element, method, prevId, lastId, ...params) {\n\t\t\tthis.controls[prevId].then(() => {\n\t\t\t\tthis.controls[lastId].activated.then((control) => {\n\t\t\t\t\tif (method === 'seek') {\n\t\t\t\t\t\tconst value = params[0]\n\t\t\t\t\t\tcontrol[method](value)\n\t\t\t\t\t\treturn\n\t\t\t\t\t}\n\t\t\t\t\tif (method === 'store') {\n\t\t\t\t\t\tconst id = params[0]\n\t\t\t\t\t\tthis.storage[id] = control[method]()\n\t\t\t\t\t\treturn\n\t\t\t\t\t}\n\t\t\t\t\tcontrol[method]()\n\t\t\t\t})\n\t\t\t})\n\t\t}\n\n\t\t_moveHere(chartId, element) {\n\t\t\telement.append(this.elements[chartId])\n\t\t}\n\n\t\t_scroll(chartId, enabled) {\n\t\t\tif (!IpyVizzu.inhibitScroll && enabled) {\n\t\t\t\tthis.elements[chartId].scrollIntoView({\n\t\t\t\t\tbehavior: 'auto',\n\t\t\t\t\tblock: 'center'\n\t\t\t\t})\n\t\t\t}\n\t\t}\n\n\t\tstatic _hide(element) {\n\t\t\tdocument.getElementById(element.selector.substring(1)).parentNode.style.display = 'none'\n\t\t}\n\n\t\tstatic _display(prevElement, element) {\n\t\t\tif (prevElement.parentNode) {\n\t\t\t\tprevElement.parentNode.style.display = 'none'\n\t\t\t}\n\t\t\tdocument.getElementById(element.selector.substring(1)).parentNode.style.display = 'flex'\n\t\t\tdocument.getElementById(element.selector.substring(1)).parentNode.style.margin = 'auto'\n\t\t}\n\n\t\tstatic changeAnalyticsTo(analytics) {\n\t\t\tif (IpyVizzu.analytics !== analytics) {\n\t\t\t\tconsole.log('ipyvizzu gather usage stats:', analytics)\n\t\t\t\tIpyVizzu.analytics = analytics\n\t\t\t}\n\t\t\tif (analytics) {\n\t\t\t\tIpyVizzu._addHeadScript()\n\t\t\t} else {\n\t\t\t\tIpyVizzu._removeScript('ipyvizzu-analytics-head')\n\t\t\t}\n\t\t}\n\n\t\tstatic _addHeadScript() {\n\t\t\tconst scriptId = 'ipyvizzu-analytics-head'\n\t\t\tif (!IpyVizzu._isScriptAppended(scriptId)) {\n\t\t\t\tconst script = document.createElement('script')\n\t\t\t\tscript.defer = true\n\t\t\t\tscript.src = 'https://plausible.io/js/script.local.js'\n\t\t\t\tscript.dataset.domain = 'usage.ipyvizzu.com'\n\t\t\t\tscript.id = scriptId\n\t\t\t\tdocument.getElementsByTagName('head')[0].appendChild(script)\n\t\t\t}\n\t\t}\n\n\t\tstatic _isScriptAppended(id) {\n\t\t\treturn document.querySelector(`script[id=\"${id}\"]`) !== null\n\t\t}\n\n\t\tstatic _removeScript(id) {\n\t\t\tconst script = document.getElementById(id)\n\t\t\tif (script) script.remove()\n\t\t}\n\t}\n\n\twindow.IpyVizzu = IpyVizzu\n\tconsole.log(`ipyvizzu ${IpyVizzu.version}`)\n\twindow.ipyvizzu = new window.IpyVizzu()\n}\n"
     },
     "metadata": {},
     "output_type": "display_data"
    },
    {
     "data": {
      "application/javascript": "if (window.IpyVizzu) window.IpyVizzu.changeAnalyticsTo(true);"
     },
     "metadata": {},
     "output_type": "display_data"
    },
    {
     "data": {
      "application/javascript": "window.ipyvizzu.createChart(element, '297d52a', 'https://cdn.jsdelivr.net/npm/vizzu@0.9/dist/vizzu.min.js', '900px', '600px');"
     },
     "metadata": {},
     "output_type": "display_data"
    },
    {
     "data": {
      "application/javascript": "window.ipyvizzu.animate(element, '297d52a', '05895b9', 'actual', false, lib => { return {\"data\": {\"series\": [{\"name\": \"Feature\", \"values\": [\"Mileage\", \"Gear Type\", \"Engine Size\", \"Options\", \"Year\"]}, {\"name\": \"Correlation\", \"values\": [-0.1, 0.14, 0.15, 0.2, 0.29]}]}} }, undefined);"
     },
     "metadata": {},
     "output_type": "display_data"
    },
    {
     "data": {
      "application/javascript": "window.ipyvizzu.animate(element, '297d52a', '46440f2', 'actual', false, lib => { return {\"config\": {\"y\": \"Feature\", \"x\": \"Correlation\", \"geometry\": \"rectangle\", \"title\": \"Features Most Influencing Used Car Price\"}} }, undefined);"
     },
     "metadata": {},
     "output_type": "display_data"
    },
    {
     "data": {
      "application/javascript": "window.ipyvizzu.animate(element, '297d52a', '4e90630', 'actual', false, lib => { return {\"style\": {\"label\": {\"fontSize\": \"14px\"}, \"plot\": {\"marker\": {\"barWidth\": \"0.8\"}}}} }, undefined);"
     },
     "metadata": {},
     "output_type": "display_data"
    },
    {
     "ename": "AssertionError",
     "evalue": "chart._repr_html_() can be used with display=DisplayTarget.MANUAL only",
     "output_type": "error",
     "traceback": [
      "\u001b[0;31m---------------------------------------------------------------------------\u001b[0m",
      "\u001b[0;31mAssertionError\u001b[0m                            Traceback (most recent call last)",
      "File \u001b[0;32m~/Library/Python/3.9/lib/python/site-packages/IPython/core/formatters.py:344\u001b[0m, in \u001b[0;36mBaseFormatter.__call__\u001b[0;34m(self, obj)\u001b[0m\n\u001b[1;32m    342\u001b[0m     method \u001b[38;5;241m=\u001b[39m get_real_method(obj, \u001b[38;5;28mself\u001b[39m\u001b[38;5;241m.\u001b[39mprint_method)\n\u001b[1;32m    343\u001b[0m     \u001b[38;5;28;01mif\u001b[39;00m method \u001b[38;5;129;01mis\u001b[39;00m \u001b[38;5;129;01mnot\u001b[39;00m \u001b[38;5;28;01mNone\u001b[39;00m:\n\u001b[0;32m--> 344\u001b[0m         \u001b[38;5;28;01mreturn\u001b[39;00m \u001b[43mmethod\u001b[49m\u001b[43m(\u001b[49m\u001b[43m)\u001b[49m\n\u001b[1;32m    345\u001b[0m     \u001b[38;5;28;01mreturn\u001b[39;00m \u001b[38;5;28;01mNone\u001b[39;00m\n\u001b[1;32m    346\u001b[0m \u001b[38;5;28;01melse\u001b[39;00m:\n",
      "File \u001b[0;32m~/Library/Python/3.9/lib/python/site-packages/ipyvizzu/chart.py:355\u001b[0m, in \u001b[0;36mChart._repr_html_\u001b[0;34m(self)\u001b[0m\n\u001b[1;32m    354\u001b[0m \u001b[38;5;28;01mdef\u001b[39;00m\u001b[38;5;250m \u001b[39m\u001b[38;5;21m_repr_html_\u001b[39m(\u001b[38;5;28mself\u001b[39m) \u001b[38;5;241m-\u001b[39m\u001b[38;5;241m>\u001b[39m \u001b[38;5;28mstr\u001b[39m:\n\u001b[0;32m--> 355\u001b[0m     \u001b[38;5;28;01massert\u001b[39;00m (\n\u001b[1;32m    356\u001b[0m         \u001b[38;5;28mself\u001b[39m\u001b[38;5;241m.\u001b[39m_display_target \u001b[38;5;241m==\u001b[39m DisplayTarget\u001b[38;5;241m.\u001b[39mMANUAL\n\u001b[1;32m    357\u001b[0m     ), \u001b[38;5;124m\"\u001b[39m\u001b[38;5;124mchart._repr_html_() can be used with display=DisplayTarget.MANUAL only\u001b[39m\u001b[38;5;124m\"\u001b[39m\n\u001b[1;32m    358\u001b[0m     \u001b[38;5;28;01massert\u001b[39;00m \u001b[38;5;129;01mnot\u001b[39;00m \u001b[38;5;28mself\u001b[39m\u001b[38;5;241m.\u001b[39m_showed, \u001b[38;5;124m\"\u001b[39m\u001b[38;5;124mcannot be used after chart displayed.\u001b[39m\u001b[38;5;124m\"\u001b[39m\n\u001b[1;32m    359\u001b[0m     \u001b[38;5;28mself\u001b[39m\u001b[38;5;241m.\u001b[39m_showed \u001b[38;5;241m=\u001b[39m \u001b[38;5;28;01mTrue\u001b[39;00m\n",
      "\u001b[0;31mAssertionError\u001b[0m: chart._repr_html_() can be used with display=DisplayTarget.MANUAL only"
     ]
    },
    {
     "data": {
      "text/plain": [
       "<ipyvizzu.chart.Chart at 0x13f9dab80>"
      ]
     },
     "execution_count": 514,
     "metadata": {},
     "output_type": "execute_result"
    }
   ],
   "source": [
    "import pandas as pd\n",
    "import ipyvizzu\n",
    "\n",
    "# Creating correlation data manually from the correlation matrix\n",
    "correlation_data = pd.DataFrame({\n",
    "    \"Feature\": [\"Year\", \"Options\", \"Engine Size\", \"Gear Type\", \"Mileage\"],\n",
    "    \"Correlation\": [0.29, 0.20, 0.15, 0.14, -0.10]\n",
    "})\n",
    "\n",
    "# Sort values for better visualization\n",
    "correlation_data = correlation_data.sort_values(by=\"Correlation\", ascending=True)\n",
    "\n",
    "# Create the ipyvizzu chart\n",
    "chart = ipyvizzu.Chart(width=\"900px\", height=\"600px\")  # Adjust the size for readability\n",
    "\n",
    "# Load the data correctly\n",
    "data = ipyvizzu.Data()\n",
    "data.add_series(\"Feature\", correlation_data[\"Feature\"].tolist())  # Feature names\n",
    "data.add_series(\"Correlation\", correlation_data[\"Correlation\"].tolist())  # Correlation values\n",
    "\n",
    "chart.animate(data)\n",
    "\n",
    "# Use a horizontal bar chart for better readability\n",
    "chart.animate(ipyvizzu.Config({\n",
    "    \"y\": \"Feature\",  # Flip axes\n",
    "    \"x\": \"Correlation\",\n",
    "    \"geometry\": \"rectangle\",\n",
    "    \"title\": \"Features Most Influencing Used Car Price\"\n",
    "}))\n",
    "\n",
    "# Adjust styling for clarity\n",
    "chart.animate(ipyvizzu.Style({\n",
    "    \"label\": {\"fontSize\": \"14px\"},  # Adjust label size\n",
    "    \"plot\": {\"marker\": {\"barWidth\": \"0.8\"}}  # Adjust bar width\n",
    "}))\n",
    "\n",
    "# Display the chart\n",
    "chart\n"
   ]
  },
  {
   "cell_type": "code",
   "execution_count": 521,
   "id": "ae0d9a3f",
   "metadata": {},
   "outputs": [
    {
     "data": {
      "application/javascript": "if (window.IpyVizzu) { window.IpyVizzu.clearInhibitScroll(element); }"
     },
     "metadata": {},
     "output_type": "display_data"
    },
    {
     "name": "stderr",
     "output_type": "stream",
     "text": [
      "/var/folders/rx/2m4195h90h7983jbhp4kkypc0000gn/T/ipykernel_4904/75927218.py:26: DeprecationWarning:\n",
      "\n",
      "'add_data_frame' is deprecated and will be removed in future versions. Use 'add_df' instead - see https://ipyvizzu.vizzuhq.com/0.17/reference/ipyvizzu/animation/#ipyvizzu.animation.Data.add_df\n",
      "\n"
     ]
    },
    {
     "data": {
      "application/javascript": "if (window.IpyVizzu?.version !== '0.17.0') {\n\tclass IpyVizzu {\n\t\tstatic version = '0.17.0'\n\t\tstatic analytics = undefined\n\t\tstatic inhibitScroll = false\n\n\t\tconstructor() {\n\t\t\tdocument.addEventListener(\n\t\t\t\t'wheel',\n\t\t\t\t(evt) => {\n\t\t\t\t\tIpyVizzu.inhibitScroll = true\n\t\t\t\t},\n\t\t\t\ttrue\n\t\t\t)\n\t\t\tdocument.addEventListener(\n\t\t\t\t'keydown',\n\t\t\t\t(evt) => {\n\t\t\t\t\tIpyVizzu.inhibitScroll = true\n\t\t\t\t},\n\t\t\t\ttrue\n\t\t\t)\n\t\t\tdocument.addEventListener(\n\t\t\t\t'touchstart',\n\t\t\t\t(evt) => {\n\t\t\t\t\tIpyVizzu.inhibitScroll = true\n\t\t\t\t},\n\t\t\t\ttrue\n\t\t\t)\n\n\t\t\tthis.elements = {}\n\t\t\tthis.charts = {}\n\t\t\tthis.controls = {}\n\n\t\t\tthis.storage = {}\n\t\t\tthis.displays = {}\n\n\t\t\tthis.events = {}\n\t\t\tthis.loaded = {}\n\t\t\tthis.libs = {}\n\t\t\tthis.plugins = {}\n\t\t}\n\n\t\tstatic clearInhibitScroll(element) {\n\t\t\tIpyVizzu.inhibitScroll = false\n\t\t}\n\n\t\tcreateChart(element, chartId, vizzulib, divWidth, divHeight) {\n\t\t\tthis.elements[chartId] = document.createElement('div')\n\t\t\tthis.elements[chartId].style.cssText = `width: ${divWidth}; height: ${divHeight};`\n\t\t\tthis.loaded[chartId] = import(vizzulib)\n\t\t\tthis.charts[chartId] = this.loaded[chartId].then((Vizzu) => {\n\t\t\t\tthis.libs[chartId] = Vizzu.default\n\t\t\t\tconst VizzuConstructor = Vizzu.default\n\t\t\t\treturn new VizzuConstructor(this.elements[chartId]).initializing\n\t\t\t})\n\t\t\tthis._moveHere(chartId, element)\n\t\t}\n\n\t\tplugin(element, chartId, plugin, options, name, enabled) {\n\t\t\tthis.charts[chartId] = this.charts[chartId].then((chart) => {\n\t\t\t\tif (!this.plugins[plugin]) {\n\t\t\t\t\tthis.plugins[plugin] = import(plugin).catch((error) => {\n\t\t\t\t\t\tconsole.error('Error importing plugin:', plugin, error)\n\t\t\t\t\t\treturn null\n\t\t\t\t\t})\n\t\t\t\t}\n\n\t\t\t\treturn this.plugins[plugin].then((pluginModule) => {\n\t\t\t\t\tif (pluginModule) {\n\t\t\t\t\t\tconst pluginInstance = new pluginModule[name](options)\n\t\t\t\t\t\tif (enabled) {\n\t\t\t\t\t\t\tchart.feature(pluginInstance, true)\n\t\t\t\t\t\t} else {\n\t\t\t\t\t\t\tchart.feature(pluginInstance.meta.name, false)\n\t\t\t\t\t\t}\n\t\t\t\t\t}\n\n\t\t\t\t\treturn chart\n\t\t\t\t})\n\t\t\t})\n\t\t}\n\n\t\tanimate(\n\t\t\telement,\n\t\t\tchartId,\n\t\t\tanimId,\n\t\t\tdisplayTarget,\n\t\t\tscrollEnabled,\n\t\t\tgetChartTarget,\n\t\t\tchartAnimOpts\n\t\t) {\n\t\t\tif (displayTarget === 'end') this._moveHere(chartId, element)\n\t\t\tthis.controls[chartId] = this.charts[chartId]\n\t\t\tthis.charts[chartId] = this.charts[chartId].then((chart) => {\n\t\t\t\tif (displayTarget === 'actual') this._moveHere(chartId, element)\n\t\t\t\tthis._scroll(chartId, scrollEnabled)\n\t\t\t\tlet chartTarget = getChartTarget(this.libs[chartId])\n\t\t\t\tif (typeof chartTarget === 'string') {\n\t\t\t\t\tchartTarget = this.storage[chartTarget]\n\t\t\t\t} else if (Array.isArray(chartTarget)) {\n\t\t\t\t\tfor (let i = 0; i < chartTarget.length; i++) {\n\t\t\t\t\t\tconst target = chartTarget[i].target\n\t\t\t\t\t\tif (typeof target === 'string') {\n\t\t\t\t\t\t\tchartTarget[i].target = this.storage[target]\n\t\t\t\t\t\t}\n\t\t\t\t\t}\n\t\t\t\t}\n\t\t\t\tchart = chart.animate(chartTarget, chartAnimOpts)\n\t\t\t\tthis.controls[animId] = chart\n\t\t\t\treturn chart\n\t\t\t})\n\t\t}\n\n\t\tstore(element, chartId, id) {\n\t\t\tthis.charts[chartId] = this.charts[chartId].then((chart) => {\n\t\t\t\tthis.storage[id] = chart.store()\n\t\t\t\treturn chart\n\t\t\t})\n\t\t}\n\n\t\tfeature(element, chartId, name, enabled) {\n\t\t\tthis.charts[chartId] = this.charts[chartId].then((chart) => {\n\t\t\t\tchart.feature(name, enabled)\n\t\t\t\treturn chart\n\t\t\t})\n\t\t}\n\n\t\tsetEvent(element, chartId, id, event, handler) {\n\t\t\tthis.charts[chartId] = this.charts[chartId].then((chart) => {\n\t\t\t\tthis.events[id] = handler\n\t\t\t\tchart.on(event, this.events[id])\n\t\t\t\treturn chart\n\t\t\t})\n\t\t}\n\n\t\tclearEvent(element, chartId, id, event) {\n\t\t\tthis.charts[chartId] = this.charts[chartId].then((chart) => {\n\t\t\t\tchart.off(event, this.events[id])\n\t\t\t\treturn chart\n\t\t\t})\n\t\t}\n\n\t\tlog(element, chartId, chartProperty) {\n\t\t\tthis.charts[chartId] = this.charts[chartId].then((chart) => {\n\t\t\t\tconsole.log(chart[chartProperty])\n\t\t\t\treturn chart\n\t\t\t})\n\t\t}\n\n\t\tcontrol(element, method, prevId, lastId, ...params) {\n\t\t\tthis.controls[prevId].then(() => {\n\t\t\t\tthis.controls[lastId].activated.then((control) => {\n\t\t\t\t\tif (method === 'seek') {\n\t\t\t\t\t\tconst value = params[0]\n\t\t\t\t\t\tcontrol[method](value)\n\t\t\t\t\t\treturn\n\t\t\t\t\t}\n\t\t\t\t\tif (method === 'store') {\n\t\t\t\t\t\tconst id = params[0]\n\t\t\t\t\t\tthis.storage[id] = control[method]()\n\t\t\t\t\t\treturn\n\t\t\t\t\t}\n\t\t\t\t\tcontrol[method]()\n\t\t\t\t})\n\t\t\t})\n\t\t}\n\n\t\t_moveHere(chartId, element) {\n\t\t\telement.append(this.elements[chartId])\n\t\t}\n\n\t\t_scroll(chartId, enabled) {\n\t\t\tif (!IpyVizzu.inhibitScroll && enabled) {\n\t\t\t\tthis.elements[chartId].scrollIntoView({\n\t\t\t\t\tbehavior: 'auto',\n\t\t\t\t\tblock: 'center'\n\t\t\t\t})\n\t\t\t}\n\t\t}\n\n\t\tstatic _hide(element) {\n\t\t\tdocument.getElementById(element.selector.substring(1)).parentNode.style.display = 'none'\n\t\t}\n\n\t\tstatic _display(prevElement, element) {\n\t\t\tif (prevElement.parentNode) {\n\t\t\t\tprevElement.parentNode.style.display = 'none'\n\t\t\t}\n\t\t\tdocument.getElementById(element.selector.substring(1)).parentNode.style.display = 'flex'\n\t\t\tdocument.getElementById(element.selector.substring(1)).parentNode.style.margin = 'auto'\n\t\t}\n\n\t\tstatic changeAnalyticsTo(analytics) {\n\t\t\tif (IpyVizzu.analytics !== analytics) {\n\t\t\t\tconsole.log('ipyvizzu gather usage stats:', analytics)\n\t\t\t\tIpyVizzu.analytics = analytics\n\t\t\t}\n\t\t\tif (analytics) {\n\t\t\t\tIpyVizzu._addHeadScript()\n\t\t\t} else {\n\t\t\t\tIpyVizzu._removeScript('ipyvizzu-analytics-head')\n\t\t\t}\n\t\t}\n\n\t\tstatic _addHeadScript() {\n\t\t\tconst scriptId = 'ipyvizzu-analytics-head'\n\t\t\tif (!IpyVizzu._isScriptAppended(scriptId)) {\n\t\t\t\tconst script = document.createElement('script')\n\t\t\t\tscript.defer = true\n\t\t\t\tscript.src = 'https://plausible.io/js/script.local.js'\n\t\t\t\tscript.dataset.domain = 'usage.ipyvizzu.com'\n\t\t\t\tscript.id = scriptId\n\t\t\t\tdocument.getElementsByTagName('head')[0].appendChild(script)\n\t\t\t}\n\t\t}\n\n\t\tstatic _isScriptAppended(id) {\n\t\t\treturn document.querySelector(`script[id=\"${id}\"]`) !== null\n\t\t}\n\n\t\tstatic _removeScript(id) {\n\t\t\tconst script = document.getElementById(id)\n\t\t\tif (script) script.remove()\n\t\t}\n\t}\n\n\twindow.IpyVizzu = IpyVizzu\n\tconsole.log(`ipyvizzu ${IpyVizzu.version}`)\n\twindow.ipyvizzu = new window.IpyVizzu()\n}\n"
     },
     "metadata": {},
     "output_type": "display_data"
    },
    {
     "data": {
      "application/javascript": "if (window.IpyVizzu) window.IpyVizzu.changeAnalyticsTo(true);"
     },
     "metadata": {},
     "output_type": "display_data"
    },
    {
     "data": {
      "application/javascript": "window.ipyvizzu.createChart(element, 'a4ef0ca', 'https://cdn.jsdelivr.net/npm/vizzu@0.9/dist/vizzu.min.js', '800px', '480px');"
     },
     "metadata": {},
     "output_type": "display_data"
    },
    {
     "data": {
      "application/javascript": "window.ipyvizzu.animate(element, 'a4ef0ca', '6feeafc', 'actual', false, lib => { return {\"data\": {\"series\": [{\"name\": \"Category\", \"values\": [\"Saudi\", \"Non-Saudi\"], \"type\": \"dimension\"}, {\"name\": \"Average Price\", \"values\": [163122.19512195123, 128714.28571428571], \"type\": \"measure\"}]}} }, undefined);"
     },
     "metadata": {},
     "output_type": "display_data"
    },
    {
     "data": {
      "application/javascript": "window.ipyvizzu.animate(element, 'a4ef0ca', '8249d0e', 'actual', false, lib => { return {\"config\": {\"x\": \"Category\", \"y\": \"Average Price\", \"title\": \"Average Price Comparison (2019-2022): Saudi vs Non-Saudi Land Cruiser\", \"geometry\": \"rectangle\"}} }, undefined);"
     },
     "metadata": {},
     "output_type": "display_data"
    },
    {
     "ename": "AssertionError",
     "evalue": "chart._repr_html_() can be used with display=DisplayTarget.MANUAL only",
     "output_type": "error",
     "traceback": [
      "\u001b[0;31m---------------------------------------------------------------------------\u001b[0m",
      "\u001b[0;31mAssertionError\u001b[0m                            Traceback (most recent call last)",
      "File \u001b[0;32m~/Library/Python/3.9/lib/python/site-packages/IPython/core/formatters.py:344\u001b[0m, in \u001b[0;36mBaseFormatter.__call__\u001b[0;34m(self, obj)\u001b[0m\n\u001b[1;32m    342\u001b[0m     method \u001b[38;5;241m=\u001b[39m get_real_method(obj, \u001b[38;5;28mself\u001b[39m\u001b[38;5;241m.\u001b[39mprint_method)\n\u001b[1;32m    343\u001b[0m     \u001b[38;5;28;01mif\u001b[39;00m method \u001b[38;5;129;01mis\u001b[39;00m \u001b[38;5;129;01mnot\u001b[39;00m \u001b[38;5;28;01mNone\u001b[39;00m:\n\u001b[0;32m--> 344\u001b[0m         \u001b[38;5;28;01mreturn\u001b[39;00m \u001b[43mmethod\u001b[49m\u001b[43m(\u001b[49m\u001b[43m)\u001b[49m\n\u001b[1;32m    345\u001b[0m     \u001b[38;5;28;01mreturn\u001b[39;00m \u001b[38;5;28;01mNone\u001b[39;00m\n\u001b[1;32m    346\u001b[0m \u001b[38;5;28;01melse\u001b[39;00m:\n",
      "File \u001b[0;32m~/Library/Python/3.9/lib/python/site-packages/ipyvizzu/chart.py:355\u001b[0m, in \u001b[0;36mChart._repr_html_\u001b[0;34m(self)\u001b[0m\n\u001b[1;32m    354\u001b[0m \u001b[38;5;28;01mdef\u001b[39;00m\u001b[38;5;250m \u001b[39m\u001b[38;5;21m_repr_html_\u001b[39m(\u001b[38;5;28mself\u001b[39m) \u001b[38;5;241m-\u001b[39m\u001b[38;5;241m>\u001b[39m \u001b[38;5;28mstr\u001b[39m:\n\u001b[0;32m--> 355\u001b[0m     \u001b[38;5;28;01massert\u001b[39;00m (\n\u001b[1;32m    356\u001b[0m         \u001b[38;5;28mself\u001b[39m\u001b[38;5;241m.\u001b[39m_display_target \u001b[38;5;241m==\u001b[39m DisplayTarget\u001b[38;5;241m.\u001b[39mMANUAL\n\u001b[1;32m    357\u001b[0m     ), \u001b[38;5;124m\"\u001b[39m\u001b[38;5;124mchart._repr_html_() can be used with display=DisplayTarget.MANUAL only\u001b[39m\u001b[38;5;124m\"\u001b[39m\n\u001b[1;32m    358\u001b[0m     \u001b[38;5;28;01massert\u001b[39;00m \u001b[38;5;129;01mnot\u001b[39;00m \u001b[38;5;28mself\u001b[39m\u001b[38;5;241m.\u001b[39m_showed, \u001b[38;5;124m\"\u001b[39m\u001b[38;5;124mcannot be used after chart displayed.\u001b[39m\u001b[38;5;124m\"\u001b[39m\n\u001b[1;32m    359\u001b[0m     \u001b[38;5;28mself\u001b[39m\u001b[38;5;241m.\u001b[39m_showed \u001b[38;5;241m=\u001b[39m \u001b[38;5;28;01mTrue\u001b[39;00m\n",
      "\u001b[0;31mAssertionError\u001b[0m: chart._repr_html_() can be used with display=DisplayTarget.MANUAL only"
     ]
    },
    {
     "data": {
      "text/plain": [
       "<ipyvizzu.chart.Chart at 0x13fb9d280>"
      ]
     },
     "execution_count": 521,
     "metadata": {},
     "output_type": "execute_result"
    }
   ],
   "source": [
    "import pandas as pd\n",
    "import ipyvizzu\n",
    "\n",
    "# Filter for Land Cruiser cars between 2019 and 2022\n",
    "land = saudi_used_cars[(saudi_used_cars[\"Type\"].str.contains(\"Land Cruiser\", na=False)) & (saudi_used_cars[\"Year\"].between(2019, 2022))]\n",
    "\n",
    "# Create separate DataFrames for Saudi and Non-Saudi\n",
    "saudi = land[land[\"Origin\"] == \"Saudi\"]\n",
    "non_saudi = land[land[\"Origin\"] != \"Saudi\"]\n",
    "\n",
    "# Calculate average price for both groups\n",
    "saudi_avg_price = saudi[\"Price\"].mean()\n",
    "non_saudi_avg_price = non_saudi[\"Price\"].mean()\n",
    "\n",
    "# Create a DataFrame for visualization\n",
    "comparison_df = pd.DataFrame({\n",
    "    \"Category\": [\"Saudi\", \"Non-Saudi\"],\n",
    "    \"Average Price\": [saudi_avg_price, non_saudi_avg_price]\n",
    "})\n",
    "\n",
    "# Initialize Vizzu chart\n",
    "chart = ipyvizzu.Chart()\n",
    "\n",
    "# Convert DataFrame into Vizzu dataset\n",
    "data = ipyvizzu.Data()\n",
    "data.add_data_frame(comparison_df)  # ✅ Corrected: Adding DataFrame properly\n",
    "\n",
    "# Add the data to the chart\n",
    "chart.animate(data)\n",
    "\n",
    "# Configure the bar chart\n",
    "chart.animate(ipyvizzu.Config(\n",
    "    {\n",
    "        \"x\": \"Category\",\n",
    "        \"y\": \"Average Price\",\n",
    "        \"title\": \"Average Price Comparison (2019-2022): Saudi vs Non-Saudi Land Cruiser\",\n",
    "        \"geometry\": \"rectangle\"\n",
    "    }\n",
    "))\n",
    "\n",
    "chart\n"
   ]
  }
 ],
 "metadata": {
  "kernelspec": {
   "display_name": "Python 3",
   "language": "python",
   "name": "python3"
  },
  "language_info": {
   "codemirror_mode": {
    "name": "ipython",
    "version": 3
   },
   "file_extension": ".py",
   "mimetype": "text/x-python",
   "name": "python",
   "nbconvert_exporter": "python",
   "pygments_lexer": "ipython3",
   "version": "3.9.6"
  }
 },
 "nbformat": 4,
 "nbformat_minor": 5
}
